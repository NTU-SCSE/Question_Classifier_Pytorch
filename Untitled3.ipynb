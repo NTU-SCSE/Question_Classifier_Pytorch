{
 "cells": [
  {
   "cell_type": "code",
   "execution_count": 1,
   "metadata": {},
   "outputs": [],
   "source": [
    "import time\n",
    "\n",
    "import numpy as np\n",
    "\n",
    "import torch\n",
    "import torch.autograd as autograd\n",
    "import torch.nn as nn\n",
    "import torch.nn.functional as F\n",
    "import torch.optim as optim\n",
    "\n",
    "import torchqrnn.forget_mult\n",
    "from torchqrnn import QRNN\n",
    "\n",
    "from tensorboard_logger import configure, log_value\n",
    "\n",
    "import re\n",
    "import datetime\n",
    "\n",
    "import random"
   ]
  },
  {
   "cell_type": "code",
   "execution_count": 2,
   "metadata": {},
   "outputs": [],
   "source": [
    "from data_module.data_preprocessor import *"
   ]
  },
  {
   "cell_type": "code",
   "execution_count": 3,
   "metadata": {},
   "outputs": [],
   "source": [
    "np.random.seed(10)\n",
    "torch.manual_seed(10)\n",
    "torch.cuda.manual_seed_all(10)\n",
    "random.seed(10)"
   ]
  },
  {
   "cell_type": "code",
   "execution_count": 4,
   "metadata": {},
   "outputs": [],
   "source": [
    "def tokenizer(text): # create a tokenizer function\n",
    "    text = text.lower()\n",
    "    TOKENIZER_RE = re.compile(r\"[A-Z]{2,}(?![a-z])|[A-Z][a-z]+(?=[A-Z])|[\\'\\w\\-]+\", re.UNICODE) \n",
    "    return TOKENIZER_RE.findall(text)"
   ]
  },
  {
   "cell_type": "code",
   "execution_count": 5,
   "metadata": {},
   "outputs": [],
   "source": [
    "text_field = data.Field(lower=True, tokenize=tokenizer, fix_length = 60)\n",
    "label_field = data.Field(sequential=False)"
   ]
  },
  {
   "cell_type": "code",
   "execution_count": 6,
   "metadata": {},
   "outputs": [],
   "source": [
    "import os\n",
    "\n",
    "DATASET_FOLDER = os.path.join(\"..\", \"dataset\")\n",
    "DATASET_PATH = os.path.join(DATASET_FOLDER, \"faqs\", \"list_of_questions_train_labeled_new_2.txt\")"
   ]
  },
  {
   "cell_type": "code",
   "execution_count": 7,
   "metadata": {},
   "outputs": [
    {
     "name": "stdout",
     "output_type": "stream",
     "text": [
      "Initial length  87599\n",
      "Lenght after  10869 10869\n",
      "train: 78840 test: 8759\n"
     ]
    }
   ],
   "source": [
    "train_data, dev_data = FAQ.splits(text_field, label_field, DATASET_PATH, 0.1)"
   ]
  },
  {
   "cell_type": "code",
   "execution_count": 8,
   "metadata": {},
   "outputs": [],
   "source": [
    "text_field.build_vocab(train_data, dev_data)\n",
    "label_field.build_vocab(train_data, dev_data)"
   ]
  },
  {
   "cell_type": "code",
   "execution_count": 9,
   "metadata": {},
   "outputs": [
    {
     "data": {
      "text/plain": [
       "['on',\n",
       " 'what',\n",
       " 'laptops',\n",
       " 'are',\n",
       " 'the',\n",
       " 'usb',\n",
       " 'ports',\n",
       " 'marked',\n",
       " 'with',\n",
       " 'a',\n",
       " 'usb',\n",
       " 'symbol',\n",
       " 'with',\n",
       " 'an',\n",
       " 'added',\n",
       " 'lightening',\n",
       " 'bolt',\n",
       " 'icon']"
      ]
     },
     "execution_count": 9,
     "metadata": {},
     "output_type": "execute_result"
    }
   ],
   "source": [
    "train_data.examples[0].text"
   ]
  },
  {
   "cell_type": "code",
   "execution_count": 10,
   "metadata": {},
   "outputs": [
    {
     "data": {
      "text/plain": [
       "'opened'"
      ]
     },
     "execution_count": 10,
     "metadata": {},
     "output_type": "execute_result"
    }
   ],
   "source": [
    "text_field.vocab.itos[1000]"
   ]
  },
  {
   "cell_type": "code",
   "execution_count": 10,
   "metadata": {},
   "outputs": [],
   "source": [
    "text_field.vocab.load_vectors('glove.6B.300d')"
   ]
  },
  {
   "cell_type": "code",
   "execution_count": 11,
   "metadata": {},
   "outputs": [
    {
     "data": {
      "text/plain": [
       "'opened'"
      ]
     },
     "execution_count": 11,
     "metadata": {},
     "output_type": "execute_result"
    }
   ],
   "source": [
    "text_field.vocab.itos[1000]"
   ]
  },
  {
   "cell_type": "code",
   "execution_count": null,
   "metadata": {},
   "outputs": [],
   "source": []
  },
  {
   "cell_type": "code",
   "execution_count": 12,
   "metadata": {},
   "outputs": [],
   "source": [
    "train_iter, dev_iter = data.Iterator.splits(\n",
    "    (train_data, dev_data), batch_sizes=(32, len(dev_data)),\n",
    "    repeat=False, device = None\n",
    ")"
   ]
  },
  {
   "cell_type": "code",
   "execution_count": 13,
   "metadata": {},
   "outputs": [
    {
     "data": {
      "text/plain": [
       "2464"
      ]
     },
     "execution_count": 13,
     "metadata": {},
     "output_type": "execute_result"
    }
   ],
   "source": [
    "len(train_iter)"
   ]
  },
  {
   "cell_type": "code",
   "execution_count": 14,
   "metadata": {},
   "outputs": [
    {
     "name": "stdout",
     "output_type": "stream",
     "text": [
      "Variable containing:\n",
      "    16     16      3  ...       3      7      3\n",
      "     9      9     71  ...      46      2      9\n",
      "     2   2987      4  ...     986    308  37645\n",
      "        ...            ⋱           ...         \n",
      "     1      1      1  ...       1      1      1\n",
      "     1      1      1  ...       1      1      1\n",
      "     1      1      1  ...       1      1      1\n",
      "[torch.cuda.LongTensor of size 60x32 (GPU 0)]\n",
      "\n",
      "Variable containing:\n",
      " 153\n",
      "  71\n",
      " 178\n",
      " 364\n",
      " 274\n",
      " 122\n",
      "  76\n",
      " 337\n",
      "  22\n",
      "  60\n",
      " 139\n",
      " 308\n",
      " 368\n",
      "  68\n",
      " 255\n",
      " 191\n",
      " 397\n",
      " 332\n",
      " 169\n",
      " 306\n",
      " 125\n",
      " 202\n",
      "  50\n",
      " 267\n",
      " 234\n",
      "  80\n",
      " 410\n",
      "  42\n",
      " 234\n",
      "  53\n",
      " 179\n",
      " 313\n",
      "[torch.cuda.LongTensor of size 32 (GPU 0)]\n",
      "\n"
     ]
    }
   ],
   "source": [
    "i = 0\n",
    "for data in train_iter:\n",
    "    print(data.text)\n",
    "    print(data.label)\n",
    "    break"
   ]
  },
  {
   "cell_type": "code",
   "execution_count": 16,
   "metadata": {},
   "outputs": [
    {
     "data": {
      "text/plain": [
       "'music'"
      ]
     },
     "execution_count": 16,
     "metadata": {},
     "output_type": "execute_result"
    }
   ],
   "source": [
    "text_field.vocab.itos[100]"
   ]
  },
  {
   "cell_type": "code",
   "execution_count": null,
   "metadata": {},
   "outputs": [],
   "source": []
  },
  {
   "cell_type": "code",
   "execution_count": 27,
   "metadata": {},
   "outputs": [
    {
     "data": {
      "text/plain": [
       "<torchtext.vocab.Vocab at 0x7ff2a8e7fdd8>"
      ]
     },
     "execution_count": 27,
     "metadata": {},
     "output_type": "execute_result"
    }
   ],
   "source": [
    "text_field.vocab"
   ]
  },
  {
   "cell_type": "code",
   "execution_count": null,
   "metadata": {},
   "outputs": [],
   "source": [
    "last_element.text"
   ]
  },
  {
   "cell_type": "code",
   "execution_count": null,
   "metadata": {},
   "outputs": [],
   "source": []
  },
  {
   "cell_type": "code",
   "execution_count": null,
   "metadata": {},
   "outputs": [],
   "source": [
    "len(dev_iter)"
   ]
  },
  {
   "cell_type": "code",
   "execution_count": null,
   "metadata": {},
   "outputs": [],
   "source": []
  }
 ],
 "metadata": {
  "kernelspec": {
   "display_name": "Python 3",
   "language": "python",
   "name": "python3"
  },
  "language_info": {
   "codemirror_mode": {
    "name": "ipython",
    "version": 3
   },
   "file_extension": ".py",
   "mimetype": "text/x-python",
   "name": "python",
   "nbconvert_exporter": "python",
   "pygments_lexer": "ipython3",
   "version": "3.5.2"
  }
 },
 "nbformat": 4,
 "nbformat_minor": 2
}
