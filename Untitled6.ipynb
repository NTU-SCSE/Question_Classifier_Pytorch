{
 "cells": [
  {
   "cell_type": "code",
   "execution_count": 1,
   "metadata": {},
   "outputs": [],
   "source": [
    "import json"
   ]
  },
  {
   "cell_type": "code",
   "execution_count": 2,
   "metadata": {},
   "outputs": [],
   "source": [
    "a = None\n",
    "with open(\"../dataset/faqs/questions_and_answers_ntu_original.json\", \"r\") as f:\n",
    "    a = json.load(f)"
   ]
  },
  {
   "cell_type": "code",
   "execution_count": 3,
   "metadata": {},
   "outputs": [],
   "source": [
    "questions = []\n",
    "categories = []\n",
    "for _, obj in a.items():\n",
    "    if obj['category'] == 'Home':\n",
    "        continue\n",
    "    questions.append(obj['question'])\n",
    "    categories.append(obj['category'])"
   ]
  },
  {
   "cell_type": "code",
   "execution_count": 4,
   "metadata": {},
   "outputs": [],
   "source": [
    "categories_menu_list = [[menu.strip() for menu in label.split('>')] for label in categories]"
   ]
  },
  {
   "cell_type": "code",
   "execution_count": 5,
   "metadata": {},
   "outputs": [],
   "source": [
    "def reduceLabel(categories_menu_list, max_len):\n",
    "    num_data = len(questions)\n",
    "    new_categories = []\n",
    "    \n",
    "    for i in range(num_data):\n",
    "        tmp = categories_menu_list[i]\n",
    "        if len(categories_menu_list[i]) > max_len:\n",
    "            tmp = tmp[:max_len]\n",
    "        tmp = \" > \".join(tmp)\n",
    "        \n",
    "        new_categories.append(tmp)\n",
    "    \n",
    "    return new_categories\n"
   ]
  },
  {
   "cell_type": "code",
   "execution_count": 6,
   "metadata": {},
   "outputs": [],
   "source": [
    "categories_string = reduceLabel(categories_menu_list, 2)"
   ]
  },
  {
   "cell_type": "code",
   "execution_count": 7,
   "metadata": {},
   "outputs": [],
   "source": [
    "from collections import Counter\n",
    "counter = Counter(categories_string)"
   ]
  },
  {
   "cell_type": "code",
   "execution_count": 8,
   "metadata": {},
   "outputs": [
    {
     "data": {
      "text/plain": [
       "Counter({'Home > Alumni Services': 16,\n",
       "         'Home > Campus Life': 250,\n",
       "         'Home > Career & Attachment': 74,\n",
       "         'Home > Donation': 13,\n",
       "         'Home > Exchange & Attachment': 174,\n",
       "         'Home > Facility Services': 37,\n",
       "         'Home > Financial Services': 44,\n",
       "         'Home > Graduate Admissions & Academic Services': 237,\n",
       "         'Home > IT Services': 357,\n",
       "         'Home > Library Services': 386,\n",
       "         'Home > Teaching & Learning': 19,\n",
       "         'Home > Undergraduate Academic Services': 279,\n",
       "         'Home > Undergraduate Admissions & Financial Assistance': 753})"
      ]
     },
     "execution_count": 8,
     "metadata": {},
     "output_type": "execute_result"
    }
   ],
   "source": [
    "counter"
   ]
  },
  {
   "cell_type": "code",
   "execution_count": 10,
   "metadata": {},
   "outputs": [],
   "source": [
    "with open(\"../dataset/faqs/faq_ntu_prototype.txt\", \"w\") as f:\n",
    "    for i in range(len(questions)):\n",
    "        f.writelines(categories_string[i]+\" \"+questions[i]+\"\\n\")\n"
   ]
  },
  {
   "cell_type": "code",
   "execution_count": 9,
   "metadata": {},
   "outputs": [
    {
     "data": {
      "text/plain": [
       "'How long has the SBS Biological Sciences programme been around?'"
      ]
     },
     "execution_count": 9,
     "metadata": {},
     "output_type": "execute_result"
    }
   ],
   "source": [
    "questions[0]"
   ]
  },
  {
   "cell_type": "code",
   "execution_count": 10,
   "metadata": {},
   "outputs": [
    {
     "data": {
      "text/plain": [
       "81"
      ]
     },
     "execution_count": 10,
     "metadata": {},
     "output_type": "execute_result"
    }
   ],
   "source": [
    "max([len(q.split(\" \")) for q in questions])"
   ]
  },
  {
   "cell_type": "code",
   "execution_count": 11,
   "metadata": {},
   "outputs": [
    {
     "data": {
      "text/plain": [
       "'How long has the SBS Biological Sciences programme been around?'"
      ]
     },
     "execution_count": 11,
     "metadata": {},
     "output_type": "execute_result"
    }
   ],
   "source": [
    "questions[0]"
   ]
  },
  {
   "cell_type": "code",
   "execution_count": null,
   "metadata": {},
   "outputs": [],
   "source": [
    "for i in range(len(questions)):\n",
    "    if categories_string[i] == 'Home > Donation':\n",
    "        print(questions[i])"
   ]
  },
  {
   "cell_type": "code",
   "execution_count": null,
   "metadata": {},
   "outputs": [],
   "source": []
  },
  {
   "cell_type": "code",
   "execution_count": null,
   "metadata": {},
   "outputs": [],
   "source": []
  },
  {
   "cell_type": "code",
   "execution_count": 15,
   "metadata": {},
   "outputs": [],
   "source": [
    "def mergeLabel(label_list, label_1, label_2):\n",
    "    combined_label = label_1 + \" + \" + label_2\n",
    "    for i in range(len(label_list)):\n",
    "        if label_list[i] == label_1 or label_list[i] == label_2:\n",
    "            label_list[i] = combined_label\n",
    "    return label_list"
   ]
  },
  {
   "cell_type": "code",
   "execution_count": 16,
   "metadata": {},
   "outputs": [],
   "source": [
    "categories_string = mergeLabel(categories_string, 'Home > Undergraduate Academic Services', 'Home > Graduate Admissions & Academic Services')"
   ]
  },
  {
   "cell_type": "code",
   "execution_count": 17,
   "metadata": {},
   "outputs": [],
   "source": [
    "counter = Counter(categories_string)"
   ]
  },
  {
   "cell_type": "code",
   "execution_count": 18,
   "metadata": {},
   "outputs": [
    {
     "data": {
      "text/plain": [
       "Counter({'Home > Alumni Services': 16,\n",
       "         'Home > Campus Life': 250,\n",
       "         'Home > Career & Attachment': 74,\n",
       "         'Home > Donation': 13,\n",
       "         'Home > Exchange & Attachment': 174,\n",
       "         'Home > Facility Services': 37,\n",
       "         'Home > Financial Services': 44,\n",
       "         'Home > IT Services': 357,\n",
       "         'Home > Library Services': 386,\n",
       "         'Home > Teaching & Learning': 19,\n",
       "         'Home > Undergraduate Academic Services + Home > Graduate Admissions & Academic Services': 516,\n",
       "         'Home > Undergraduate Admissions & Financial Assistance': 753})"
      ]
     },
     "execution_count": 18,
     "metadata": {},
     "output_type": "execute_result"
    }
   ],
   "source": [
    "counter"
   ]
  },
  {
   "cell_type": "code",
   "execution_count": 20,
   "metadata": {},
   "outputs": [
    {
     "name": "stdout",
     "output_type": "stream",
     "text": [
      "Can I make a gift online?\n",
      "how can i donate to NTU\n",
      "What is Term Funding and Endowment?\n",
      "Must gifts always be in cash?\n",
      "Would I enjoy tax deduction benefits for making a gift?\n",
      "Who can I talk to about making an endowed donation?\n",
      "Can I make payment for my gift in installments?\n",
      "When are bursaries and scholarships given out?\n",
      "What do you mean by government 1:1 or dollar-for-dollar matching?\n",
      "What are the programmes I can support?\n",
      "Why should I give to NTU?\n",
      "How will I know where my gift or donation goes to and how it is used?\n",
      "What is the role of NTU's Development Office?\n"
     ]
    }
   ],
   "source": [
    "for i in range(len(questions)):\n",
    "    if categories_string[i] == 'Home > Donation':\n",
    "        print(questions[i])\n"
   ]
  },
  {
   "cell_type": "code",
   "execution_count": 22,
   "metadata": {},
   "outputs": [
    {
     "name": "stdout",
     "output_type": "stream",
     "text": [
      "How do I get copies of the syllabus of the course I attended while in NTU?\n",
      "What is the Email Forwarding Service?\n",
      "What is the Free Lifelong Alumni Email Account?\n",
      "How long will my application for the alumni email account / email forwarding service be processed?\n",
      "What is my password for my alumni email account when I log in for the first time?\n",
      "How can we apply to register an Alumni Association or Club?\n",
      "What if I cannot remember my password for my alumni email account?\n",
      "How do I change my email forwarding address?\n",
      "How do I update my personal particulars with the Alumni Affairs Office?\n",
      "How to get replacement certificate?\n",
      "How do I apply for the alumni card?\n",
      "How do I become a member of the NTU Alumni Club?\n",
      "Who are our alumni?\n",
      "Who do I contact if I wish to get in touch with my former classmate?\n",
      "Who can I ask for assistance if I have problems with my Alumni Email Account and the Email Forwarding Service?\n",
      "How do I request for additional copies of my transcript or degree certificate\n"
     ]
    }
   ],
   "source": [
    "for i in range(len(questions)):\n",
    "    if categories_string[i] == 'Home > Alumni Services':\n",
    "        print(questions[i])"
   ]
  },
  {
   "cell_type": "code",
   "execution_count": 23,
   "metadata": {},
   "outputs": [
    {
     "name": "stdout",
     "output_type": "stream",
     "text": [
      "Can I put 2 or more programmes/projects offered by the same non-interviewing organisation as my choices?\n",
      "Can I select organisations not in my field of specialistion under Phase 1 selection?\n",
      "Sourcing for own attachment placement\n",
      "Is there CPF deductions from allowance during IA?\n",
      "I have been assigned an organisation of my choice in Phase 2, can I appeal for a change in the organisation?\n",
      "For the 8-week attachment, should I be receiving $1200 if my monthly allowance is $600 per month?\n",
      "When will PA results be released?\n",
      "Where is the Career & Attachment Office (CAO) located?\n",
      "Do I have to select exactly 6 organisations under Phase 2?\n",
      "When will the IO result be released?\n",
      "I can't find my name on the Big 4 shortlisted lists, do I have to contact the firms?\n",
      "If I have gone for intervews and did not receive any offers, do I need to participate in the online acceptance exercise?\n",
      "What is the official period of IA?\n",
      "Are Accountancy and Business students vying for the same positions in the PA organisation?\n",
      "Should CAO request organisations to issue testimonials to PA students?\n",
      "What are CAO's operating hours?\n",
      "What should I do if I were given medical leave during IA?\n",
      "Can I do my IA in my final semester?\n",
      "What should I do if I am required to attend NS training during the IO period?\n",
      "My organisation supervisor is agreeable to let me go on leave, do I still need to apply for leave through CAO?\n",
      "What should I do if I were given medical leave during EIA?\n",
      "Will the same organisations be listed in Phase 1 and again Phase 2?\n",
      "I have gone for interviews and have received one offer or more, what must I do?\n",
      "What should I do if my study in NTU is sponsored by an organisation?\n",
      "Will face-to-face interview be conducted by all 'interviewing organisations' and organisations offering overseas IA?\n",
      "Is there a minimum allowance for PI?\n",
      "Can the extra 3 AUs earned from EIA be used to offset the requirement for GER-UE (General Education Requirement- Unrestricted Elective?\n",
      "What is the difference between the organisations listed in Phase 1 & Phase 2?\n",
      "Submission of Application to Big 4\n",
      "What should I do if I am required to attend NS training during the IA period?\n",
      "I am under a local scholarship, can I apply for an overseas IA?\n",
      "What is the email address of CAO?\n",
      "Can I work part-time during IA?\n",
      "Do I have to pay school fees during IA?\n",
      "How many AUs will I be awarded for IA?\n",
      "I have accepted a priority offer from one of the firm, can I still apply to the other three firms?\n",
      "When would I receive my allowance?\n",
      "Who is the Director of CAO?\n",
      "Should I be paid for working overtime?\n",
      "How many AUs will I be awarded for EIA?\n",
      "Can I apply for Special Leave for campus activities (such as freshmen orientation camp, church camp, etc)?\n",
      "Am I required to source for my own IO placement?\n",
      "Am I allowed to submit two self-sourced IO applications concurrently?\n",
      "When will the EIA result be released?\n",
      "I have received an offer from a firm, but do not want to accept. What should I do?\n",
      "If I have already got approval to take up the IA placement secured by myself, do I still need to register for IA?\n",
      "Exemption of Attachment\n",
      "What is CAO's contact information?\n",
      "I am overseas when Big 4 conducts interview for graduating students, how?\n",
      "Am I entitled to vacation leave during IO?\n",
      "If I have not been shortlisted for interviews by the Big 4, can I re-apply?\n",
      "Is there a minimum allowance for PA?\n",
      "I am on academic exchange, can I apply for interviewing organisations?\n",
      "When will the IA result be released?\n",
      "I am on academic exchange and my host university is trying to source for a suitable IA placement for me. Do I still need to register for IA?\n",
      "Am I entitled to vacation leave during EIA?\n",
      "Am I entitled to vacation leave during IA?\n",
      "How do I register for IO?\n",
      "How do I register for IA?\n",
      "Can I work part-time during IO?\n",
      "How do the organisations calculate the student allowance?\n",
      "What is meant by 'Non-bonded only'?\n",
      "The firms requested for transcript in their online application. What must I do since I don't have the transcript yet?\n",
      "Would I be paid if I am on medical leave or approved special leave?\n",
      "Can I read courses during IA?\n",
      "For the 24-week attachment, should I be receiving $3000 if my monthly allowance is $500 per month?\n",
      "Can I apply for Special Leave for campus activities (such as freshmen orientation camp, church camp, etc)?\n",
      "Can I read courses during EIA?\n",
      "How many AUs will I be awarded for IO?\n",
      "Can I do my IO in my final special sessions?\n",
      "Can I select organisations not in my field of specialistion under Phase 2 Selection?\n",
      "What should I do if I were given medical leave during IO?\n",
      "Will there be a briefing on IA?\n",
      "If I was accepted by an organisation in Phase 1, can I still apply for organisations in Phase 2?\n"
     ]
    }
   ],
   "source": [
    "for i in range(len(questions)):\n",
    "    if categories_string[i] == 'Home > Career & Attachment':\n",
    "        print(questions[i])"
   ]
  },
  {
   "cell_type": "code",
   "execution_count": 25,
   "metadata": {},
   "outputs": [
    {
     "name": "stdout",
     "output_type": "stream",
     "text": [
      "How to apply for operation of food stall in NTU?\n",
      "Can I engage my own contractors to renovate my office/laboratory?\n",
      "What to do if you see a snake on a tree.\n",
      "What types of support are available in ODFM for events and activities organized by staff or students?\n",
      "I have lost my key to my room. How do I get a replacement?\n",
      "Who can I report to concerning noise pollution on campus?\n",
      "Can I report to the Police concerning any criminal activity that occur on campus?\n",
      "Where can I find a copy of the season parking application form?\n",
      "Why is my car being wheel-clamped?\n",
      "Who can assist me if I have left my security card, key or valuables in a room that is locked by electronic security?\n",
      "What to do if you see a snake in your home.\n",
      "What to do if you see a swarm of bees or hornets.\n",
      "How can I request for floor plans of my school?\n",
      "Who can assist me if I saw a snake or other creatures?\n",
      "What are the operating hours of Campus Security?\n",
      "How should I get building defects or faulty services rectified in my office or in common areas?\n",
      "What are the charges for season parking?\n",
      "What should you do when you see an animal (wild boar, ant eater, monkey) crossing the road?\n",
      "Can students apply for season parking?\n",
      "Where can I hand over a found item?\n",
      "What are the rates for hourly parking?\n",
      "Where can I make a report of my lost item in campus?\n",
      "How to lease space for operating retail shops and outlets in NTU?\n",
      "Where is the proper place to park my car without being wheel-clamped?\n",
      "Pot hole on the road\n",
      "Why am I issued with a $30 fine?\n",
      "How can I get the wheel-clamp to be released from my vehicle?\n",
      "How can I make use of popular common spaces in the Academic Complexes for conduct of my event? Is it chargeable?\n",
      "Street lighting failure\n",
      "I have a reseach grant and need a space to conduct my research works. How should I approach this?\n",
      "What to do if you encounter a stray dog.\n",
      "Who can I report to concerning a suspicious activity or person?\n",
      "How can I report any illegal parking of vehicles?\n",
      "Snapped tree branches on the road or tree uploaded\n",
      "What must I do before I can have my laboratory renovated to suit my research activities?\n",
      "Who will have custody of found items found in NTU?\n",
      "Why am I issued with a warning for illegal parking?\n"
     ]
    }
   ],
   "source": [
    "for i in range(len(questions)):\n",
    "    if categories_string[i] == 'Home > Facility Services':\n",
    "        print(questions[i])"
   ]
  },
  {
   "cell_type": "code",
   "execution_count": 26,
   "metadata": {},
   "outputs": [
    {
     "data": {
      "text/plain": [
       "Counter({'Home > Alumni Services': 16,\n",
       "         'Home > Campus Life': 250,\n",
       "         'Home > Career & Attachment': 74,\n",
       "         'Home > Donation': 13,\n",
       "         'Home > Exchange & Attachment': 174,\n",
       "         'Home > Facility Services': 37,\n",
       "         'Home > Financial Services': 44,\n",
       "         'Home > IT Services': 357,\n",
       "         'Home > Library Services': 386,\n",
       "         'Home > Teaching & Learning': 19,\n",
       "         'Home > Undergraduate Academic Services + Home > Graduate Admissions & Academic Services': 516,\n",
       "         'Home > Undergraduate Admissions & Financial Assistance': 753})"
      ]
     },
     "execution_count": 26,
     "metadata": {},
     "output_type": "execute_result"
    }
   ],
   "source": [
    "counter"
   ]
  },
  {
   "cell_type": "code",
   "execution_count": 27,
   "metadata": {},
   "outputs": [
    {
     "name": "stdout",
     "output_type": "stream",
     "text": [
      "I have a planned sequence of a video for lectures and teaching experiments. How can I get that recorded?\n",
      "What is the procedure to request to video-record corporate events, lectures and teaching experiments on location for teaching, promotional and archival purposes?\n",
      "What assistance can I get for design of desktop presentations, conference CD/DVD-ROM, or web design?\n",
      "How do I request to record audio for announcements or for narration over video programme?\n",
      "Can CITS convert audio cassettes to audio CDs?\n",
      "How do I approach the CITS for any of the Design & Media services?\n",
      "What is NTULearn?\n",
      "How do I request to convert photos to digital desktop presentation formats, DVDs or CDs?\n",
      "How do I request to convert VHS tape, mini-DV or DVD disc to CDs?\n",
      "Can CITS print leaflet, poster, banner, and others?\n",
      "How do I request to put photos, video clips and slides presentations on the campus - wide ChannelNTU plasma TV to let people know about upcoming events?\n",
      "What are the related 'Learning Services' available in NTULearn?\n",
      "What should I do if I need help to take photographs of lab activities, project work, major events, etc?\n",
      "How do I request to design graphics for brochures, invitation cards, leaflets, posters, banners or other print publications?\n",
      "How do I check for plagiarism for the work submitted by student?\n",
      "How do I broadcast live event to ChannelNTU plasma TV or to another Lecture Theatre?\n",
      "How do I remove video contents such as advertisements, long breaks etc... from a VHS tape, mini-DV or DVD to a new edited VCD, DVD or to school website?\n",
      "How and when can I access my course sites in NTULearn?\n",
      "If I need to record radio or TV programme, how can CITS help me?\n"
     ]
    }
   ],
   "source": [
    "for i in range(len(questions)):\n",
    "    if categories_string[i] == 'Home > Teaching & Learning':\n",
    "        print(questions[i])"
   ]
  },
  {
   "cell_type": "code",
   "execution_count": 28,
   "metadata": {},
   "outputs": [],
   "source": [
    "categories_string = mergeLabel(categories_string, 'Home > Teaching & Learning', 'Home > IT Services')"
   ]
  },
  {
   "cell_type": "code",
   "execution_count": 29,
   "metadata": {},
   "outputs": [],
   "source": [
    "counter = Counter(categories_string)"
   ]
  },
  {
   "cell_type": "code",
   "execution_count": 30,
   "metadata": {},
   "outputs": [
    {
     "data": {
      "text/plain": [
       "Counter({'Home > Alumni Services': 16,\n",
       "         'Home > Campus Life': 250,\n",
       "         'Home > Career & Attachment': 74,\n",
       "         'Home > Donation': 13,\n",
       "         'Home > Exchange & Attachment': 174,\n",
       "         'Home > Facility Services': 37,\n",
       "         'Home > Financial Services': 44,\n",
       "         'Home > Library Services': 386,\n",
       "         'Home > Teaching & Learning + Home > IT Services': 376,\n",
       "         'Home > Undergraduate Academic Services + Home > Graduate Admissions & Academic Services': 516,\n",
       "         'Home > Undergraduate Admissions & Financial Assistance': 753})"
      ]
     },
     "execution_count": 30,
     "metadata": {},
     "output_type": "execute_result"
    }
   ],
   "source": [
    "counter"
   ]
  },
  {
   "cell_type": "code",
   "execution_count": 31,
   "metadata": {},
   "outputs": [
    {
     "name": "stdout",
     "output_type": "stream",
     "text": [
      "What is a fee-paying or study abroad programme?\n",
      "In which year of study can I participate in Overseas Attachment?\n",
      "Do I need to purchase a particular overseas travel insurance?\n",
      "If I am interested, how do I submit my application?\n",
      "I have not received my host university transcript since returning a few months ago, what should I do?\n",
      "How do I know what partner university spots are open in the Round 2?\n",
      "How much does it cost to go on GEM Explorer exchange?\n",
      "When will I be able to know the outcome of my application?\n",
      "I have been charged with a withdrawal penalty by GEM Explorer. What are the consequences for not paying the S$500 charge?\n",
      "Will I be paid a monthly allowance by the overseas organisation?\n",
      "What are the penalties for withdrawing from GEM Explorer?\n",
      "Is there any way which I can get in-touch with other participants from the programme prior to the programme commencement?\n",
      "How would I know GEM Explorer's allocation results for Round 2?\n",
      "I missed the deadline to accept the Allocation Offer for GEM Explorer. Can I still accept and move on to applying to my host university?\n",
      "Is on-campus accommodation provided?\n",
      "What do I need to do as an NTU Ambassador while on GEM Explorer exchange?\n",
      "How can I apply if I wish to study for a longer period in NTU?\n",
      "Are there any other NTU School restrictions for students applying to GEM Explorer exchange?\n",
      "How and when do I submit my mandatory Indemnity Form for GEM Explorer?\n",
      "Will I be notified if my application for GEM Explorer is not approved?\n",
      "What is the GEM Explorer mailing address?\n",
      "I really like my host university and I want to transfer to my host country or to another university, how do I do this?\n",
      "Do all partner universities listed in GEM Explorer offer courses in English?\n",
      "How do I apply for GEM Explorer?\n",
      "Can I opt for a single room instead of twin-sharing during my study in NTU?\n",
      "How do I look for housing for my GEM Explorer exchange semester?\n",
      "What should I prepare in my application to the host university?\n",
      "Will the host university accept a QET (Qualifying English Test) certificate for my application?\n",
      "Am I allowed to work while I am on exchange?\n",
      "Can I arrange to live off campus during the programme?\n",
      "When is the due date to pay the programme fees?\n",
      "What are the selection criteria for Overseas Attachment?\n",
      "Are there any financial aid or assistance schemes available for GEM Explorer students?\n",
      "Am I able to defer my exchange allocation to another year/semester, change university, or give it to a friend?\n",
      "When I select and rank my top three (3) partner universities, how would GEM Explorer allocate me based on my ranking choices?\n",
      "Will a face-to-face interview be conducted by organisations offering Overseas Attachment?\n",
      "A student with a lower CGPA was allocated and I was not, may I know why is this so?\n",
      "I made a mistake on my online application for GEM Explorer, can I reset or go back to change it?\n",
      "How much is the programme fees for the Summer Programme?\n",
      "Do I have to go for my host university's orientation?\n",
      "Should I make a copy of my host university acceptance letter?\n",
      "I want to complete my exams at NTU rather than the host university. What is the procedure?\n",
      " I applied in Round 1 and would like to reject my Allocation Offer. Will I still be able to apply for Round 2.\n",
      "Can I book my flight before I receive confirmation of my acceptance / Acceptance Letter from the host university?\n",
      "Where do I get a 'Letter of Nomination'?\n",
      "Is there any financial assistance in place for Overseas Attachment?\n",
      "When I go for the GEM Explorer Research, will I still be able to take on local internships / attachments, for example: Final Year Project (FYP)?\n",
      "How do I know my chances of getting selected for GEM Explorer?\n",
      "Do I need a Visa to go on exchange?\n",
      "Who can I contact at NTU if I have more questions?\n",
      "Can I use my PSEA funds to cover my expenses for GEM Explorer exchange?\n",
      "Do I still need to pay fees to the Host University if I am on GEM Explorer?\n",
      "What do I need when I apply online for GEM Explorer?\n",
      "How do I get my transcript from my host university?\n",
      "What is the complete application process?\n",
      "If my CGPA is lower than 3.5, can I still apply to GEM Explorer?\n",
      "What does 'overseas exposure' mean?\n",
      "How long will the visa application take?\n",
      "I received an email from GEM Explorer stating that I am eligible for Round 3, what does this mean?\n",
      "When can I contact my host university?\n",
      "I am abroad at my host university and I want to update or add a new course. How do I match courses to NTU?\n",
      "May I know each partner university's minimum CGPA requirement for GEM Explorer exchange students?\n",
      "Are the courses from the Summer Programme applicable for credit transfer?\n",
      "Where and when can I check the Allocation Results for GEM Explorer?\n",
      "How can I check if the partner university I want is in demand or has limited available spots (vacancies)?\n",
      "Is priority for GEM Explorer given to more senior students?\n",
      "How do I get my 'Certificate of Participation'?\n",
      "I am a Masters student at NTU. Can I apply for GEM Explorer?\n",
      "What should I do if I wish to withdraw from the programme?\n",
      "My host university also requires me to purchase travel/health insurance from their appointed insurer, what do I do?\n",
      "If I accept GEM Explorer's Allocation Offer and am allocated to a host university, does that mean that I will be accepted in the host university?\n",
      "Will the courses I complete on GEM Explorer Exchange count towards my academic unit requirement for my degree in NTU?\n",
      "What is the difference between an Entry Visa and a Social Visit Pass (SVP)?\n",
      "I rejected my GEM Explorer Allocation Offer, are there any penalties?\n",
      "What if I do not submit my indemnity form to GEM Explorer one (1) month before departing for exchange?\n",
      "Is there a deadline for submission of the Exchange Report?\n",
      "Are there any scholarships or financial aids which I can apply?\n",
      "How many courses am I allowed to take? Can I take courses from different tracks?\n",
      "What is course-matching and how do match courses for GEM Explorer?\n",
      "Can I contact the partner university directly?\n",
      "Can NTU students match with NIE courses in the GEM Explorer exchange programme?\n",
      "Do I have to complete a medical exam or check-up or exam to go on a GEM Explorer exchange?\n",
      "Will the overseas organisation cover other costs such as airfare, accommodation, insurance etc?\n",
      "Besides the Mandatory Documents, what other documents do I need to apply to my host university?\n",
      "What is CourseFinder?\n",
      "Is there a deadline for matching courses for GEM Explorer?\n",
      "Can I apply for INSTEP and GIP concurrently?\n",
      "What level of English do I need in order to participate in the Summer Programme?\n",
      "My host university sent the transcript directly to me and not to the GEM Explorer office. What should I do?\n",
      "What documents will I need for the visa application?\n",
      "Will I automatically get on-campus housing at the host university?\n",
      "How can I check if my passport is valid?\n",
      "The partner university's academic calendar / semester term clashes with NTU's, can I still go?\n",
      "My NTU transcript is not the latest, can I still submit this in my application to the host university?\n",
      "Will my CGPA be affected by the GEM Explorer exchange semester?\n",
      "If I am selected for SUSEP (local exchange), will it affect my chances to participate in GEM Explorer in subsequent semesters?\n",
      "What is the 'NTU Letter of Participation'?\n",
      "Can i book on-campus accommodation for my guests during my programme in NTU?\n",
      "What should I do if I plan to stay in Singapore longer than my granted stay validity?\n",
      "Are the Round 2 selection criteria the same as Round 1 selection criteria?\n",
      "I am a scholarship holder. Will I be eligible to apply for Overseas Attachment?\n",
      "Can I apply for GEM Explorer if I had previously been in an overseas programme that was NOT an Exchange programme?\n",
      "I rejected my GEM Explorer Allocation Offer by the deadline, are there any penalties?\n",
      "How can I find out what courses were previously approved or rejected at a host university that I am interested in?\n",
      "Where is the GEM Explorer office and when is it open?\n",
      "Should I include any language proficiency tests in my application package?\n",
      "When do I need to submit my application to the host university?\n",
      "I missed the application deadline; can I still apply for GEM Explorer?\n",
      "I am on GEM Explorer and I really like the Host University. Can I transfer?\n",
      "Can I choose courses that matches to a different NTU School from the one I am in?\n",
      "I want to select a partner university to go to, where do I start?\n",
      "How do I check if my passport is valid?\n",
      "Will I receive an official transcript at the end of the Summer Programme?\n",
      "What are the currencies used in Singapore? Can I use my credit card(s) or bank card(s) in Singapore?\n",
      "Where can I obtain the course syllabus?\n",
      "Where can I order my official NTU transcript to apply to the host university?\n",
      "Is there a checklist of things I need to prepare before I depart?\n",
      "Can I go to a non-partner university under the GEM Explorer programme?\n",
      "When can I move into my allocated Hall of Residence?\n",
      "What can I expect from the hall facilities for on-campus accommodation?\n",
      "I am an international student, can I apply to universities in my home country for GEM Explorer?\n",
      "Where can I get the Letter of Recommendation?\n",
      "Which department transfers the credits from the host university?\n",
      "Is priority for GEM Explorer given to Singaporeans?\n",
      "What should I do if my passport is expiring soon/has expired at the point of application?\n",
      "I already have insurance coverage back in my home country. Do I still have to purchase insurance in Singapore?\n",
      "How do I get to NTU Yunnan Campus? Will there be airport reception available?\n",
      "What is round 3 application of GEM Explorer?\n",
      "How can I check when my credits have been transferred?\n",
      "I'm interested in GEM Explorer but cannot find a suitable course or faculty at the partner university, what should I do?\n",
      "In order to apply for a student visa, the embassy says that I need a letter from NTU. What is this?\n",
      "Will the credits obtained overseas affect the classification of my honours?\n",
      "How do I obtain a bank letter and why would my host university require this in my application?\n",
      "My host university is asking for the home campus contact person. What should I put down?\n",
      "Can my family or friends collect the 'NTU Letter of Participation' on my behalf?\n",
      "I am a Singaporean studying in an overseas university. Can I apply?\n",
      "I am a scholarship holder. Can I apply to GEM Explorer?\n",
      "I have to withdraw from the GEM Explorer programme. What is the procedure?\n",
      "How long will I be granted to stay and remain in Singapore?\n",
      "Can I change host universities when I receive the Allocation Offer?\n",
      "How should I rank my partner university choices when applying for GEM Explorer\n",
      "What is Round 2 application of GEM Explorer?\n",
      "Can I go for GEM Explorer (Study/Research) between semesters instead of during?\n",
      "Should I alert my Hall Officer in NTU that I am going on an exchange?\n",
      "What if I already have an overseas travel insurance?\n",
      "How long does it take to transfer the credits?\n",
      "My transcript from the host university is not in English. What do I do?\n",
      "Can I choose a partner university that is not relevant to my School at NTU for GEM Explorer?\n",
      "I'm on Leave of Absence (LOA), am I allowed to apply for GEM Explorer exchange (for the semester where I'll be active)?\n",
      "Where can I get this 'NTU Letter of Participation'?\n",
      "What are the important notes on Credit Transfer that I need to know?\n",
      "How do i go about arranging for accommodation if I am arriving earlier/leaving later than the programme duration?\n",
      "When and how can I check the results of my application to the host university?\n",
      "The partner university's academic calendar clashes with NTU's semester/term. Can I still apply to the partner university for GEM Explorer?\n",
      "If my school coordinator does not approve me to apply for GEM Explorer, can I still go on exchange?\n",
      "Will there be any outdoors activities during the programme?\n",
      "How would I find out the results for GEM Explorer's Round 2?\n",
      "Can I apply for GEM Explorer, CAO attachment, and GEM Discoverer for the same semester?\n",
      "Is an exchange semester counted as part of the total candidature at NTU?\n",
      "Do I need to apply for a student visa for the participation in the Summer Programme?\n",
      "I have a friend in Singapore and is agreeable to me staying at her place during the programme period. Is this arrangement possible?\n",
      "When and how do I apply for the scholarships or funding?\n",
      "May I know who else is going with me to my host university?\n",
      "Is there a minimum/maximum course load or no. of AUs to take?\n",
      "I am an international student, can I return to my home country for attachment?\n",
      "What is a Social Visit Pass?\n",
      "Can I choose my roommate and the hall which I wish to live in during my study in NTU?\n",
      "Am I eligible to apply for Round 2 if I withdraw AFTER accepting the Allocation Offer in Round 1?\n",
      "I would like to extend my GEM Explorer exchange to stay another semester. How do I do this?\n",
      "I want to apply for a future intake/academic year, can I apply in advance during GEM Explorer's current application period for the current intake/academic year?\n",
      "What do I have to do while overseas that relates to GEM Explorer?\n",
      "My acceptance letter is at the GEM Explorer office. Is it possible for GEM Explorer to send it to me as I am unable to come to the office to collect it?\n",
      "What is an exchange programme?\n",
      "My host university is asking for a 'Certificate of Enrolment'. What is this and where do I get it?\n"
     ]
    }
   ],
   "source": [
    "for i in range(len(questions)):\n",
    "    if categories_string[i] == 'Home > Exchange & Attachment':\n",
    "        print(questions[i])"
   ]
  },
  {
   "cell_type": "code",
   "execution_count": 32,
   "metadata": {},
   "outputs": [
    {
     "name": "stdout",
     "output_type": "stream",
     "text": [
      "Can I have a list of useful contact numbers in Office of Finance?\n",
      "Change of bank account for interbank giro\n",
      "Is there a need to input both cost centre and WBS element in 1 PR?\n",
      "do i have to fill in giro deduction form when i already have giro deduction?\n",
      "How do I apply for Interbank GIRO facility?\n",
      "Does the University have adequate insurance policies to cover the public visiting the campus?\n",
      "Is there any financial assistance scheme for undergraduate/postgraduate?\n",
      "How do I pay my fees?\n",
      "Can the PR be withdrawn after the approving officer has approved?\n",
      "How do I sign up for P2P as a submitter?\n",
      "May I have the details of hostel charges indicated in my hostel bill?\n",
      "how to pay computer loan?\n",
      "How and when do I get a bill?\n",
      "What items are included in my bill?\n",
      "Vendor name cannot be found in P2P system.\n",
      "Where are you located?\n",
      "In the event that the backup approving officer has yet to approve the PR, can the PR be re-routed back to original approving officer?\n",
      "Can I purchase something which is to be delivered outside of NTU (e.g. Duke-NUS or Biopolis)?\n",
      "when will I get the student bill if I choose service obiligation and tuition fee loan?\n",
      "If an item can be found in e-cat, can we still purchase the item as SVP?\n",
      "bank interest rate\n",
      "how do i pay overseas exchange loan?\n",
      "I am an international students, What documents should I submit when I apply NTU study loan?\n",
      "what is BG?\n",
      "Do I have to submit a Giro Form if I am in receipt of any scholarship, study loan or bursary?\n",
      "What are the late payment fees on my student e-bill/hostel e-bill?\n",
      "Can the recipient for the informative flow view the invoice details after a Purchase Order (PO) has been paid?\n",
      "Who should we contact if we can't find the Invoice / Delivery Address we want in the P2P system?\n",
      "What if I do not receive a bill?\n",
      "As a Submitter, where should I add the contact details of the respective Lab/Office's receiver who would be receiving the goods physically?\n",
      "Can I use Post-Secondary Education Account (PSEA) to pay for student bill?\n",
      "Can I use Central Provident Fund (CPF) to pay my fees?\n",
      "I am a new research scholar. I have enquiries on stipends such as amount, payment/remittance date, etc?\n",
      "How do I access the P2P system?\n",
      "Can we still purchase a catalogue item in a saved template if the contract which the item has been tied to has expired?\n",
      "I can't find the Unit of Measure (UOM) that I want. What should I do?\n",
      "What do I need to do if I wish to cancel a P2P PO?\n",
      "Am I liable to pay fees if I withdraw from my course?\n",
      "When do I have to pay fees?\n",
      "office of finance contact email\n",
      "what time close\n",
      "Does online purchase using credit card payment need to go through ePR or P2P?\n",
      "Where do I find the BOS form\n",
      "Can a Submitter perform Goods Receipt in P2P System?\n"
     ]
    }
   ],
   "source": [
    "for i in range(len(questions)):\n",
    "    if categories_string[i] == 'Home > Financial Services':\n",
    "        print(questions[i])"
   ]
  },
  {
   "cell_type": "code",
   "execution_count": 33,
   "metadata": {},
   "outputs": [
    {
     "name": "stdout",
     "output_type": "stream",
     "text": [
      "Where can I find the collection of NTU theses?\n",
      "How can I place a book on Reserves?\n",
      "My lecturer has reserved an AV material for class use only. Can I check the title and view them within the Library?\n",
      "How to bookmark One Search in the web browser for future use?\n",
      "How do I make sure that I don't plagiarize?\n",
      "The citation style I'm using requires journal titles to be abbreviated. How can I get EndNote to automatically abbreviate the titles in my library?\n",
      "I need to use some sound effects recordings for my 4D Design class. Will I be able to find them in the library?\n",
      "What is the opening hours of Wang Gungwu Library?\n",
      "I want to refer to some technical standards to help me in my research as well as for my project work. What are the technical standards that are available in the library?\n",
      "How would I be informed if my library item is ready for my collection?\n",
      "How to access news collection?\n",
      "Do we have access to IEEE e-book?\n",
      "How do I cite scripts or speeches using EndNote?\n",
      "How can I access Library's subscribed databases?\n",
      "How do I request for an item from the closed stacks?\n",
      "How do I find e-books using the Library Catalogue?\n",
      "Can the Library help me find belongings that I had lost in the Library?\n",
      "Are there hot and cold water dispensers in Lee Wee Nam Library?\n",
      "How do I INSTALL EndNote?\n",
      "Which versions of MS Word are compatible with EndNote ?\n",
      "Is there a reserve book collection (RBR) at the Communications and Information Library (CMIL)?\n",
      "Can the Digital Repository (DR-NTU) be accessed remotely or only through PCs in the NTU library?\n",
      "How do I update my address with NTU Library?\n",
      "Can I borrow book if I am on leave of absence?\n",
      "How do I use EndNote with China National Knowledge Infrastructure (CNKI)?\n",
      "Where are the Bloomberg terminals?\n",
      "How do I get a library card to borrow books from the library?\n",
      "How can I move around Business Library if I am unable to climb stairs?\n",
      "How do I join the Library as a member?\n",
      "How to access IEEE Xplorer?\n",
      "Is it possible for existing books in the Library to be charged out to me or my school as long-term loans? How long can the books be loan out for?\n",
      "Where can I find newspapers?\n",
      "What is the operating hours of Art Design & Media Library?\n",
      "Is the author required to alert the journal publisher regarding NTU's Open Access mandate?\n",
      "What should I do if I want to work in the libraries ?\n",
      "I would like to offer my feedback and suggestions to the Library. Who should I direct them to?\n",
      "Where can I locate the TIME magazine?\n",
      "Where can I find the procedure to submit my final year report (FYP), thesis, dissertation, professional attachment, and professional internship report to the digital repository?\n",
      "How many libraries are there in NTU?\n",
      "Why am I unable to log into DR-NTU with my NTU login user ID?\n",
      "What do I do when I receive an overdue reminder for a book that I have already returned?\n",
      "Does the Library have any online English dictionaries?\n",
      "Can audio-visual clippings be included in instructional materials used in class? Can a compilation of audio-visual snippets be made for use in class?\n",
      "Where is the reading areas located in HSS Library?\n",
      "Why can't I find the reference style that is required by my school?\n",
      "How do I book facilities at the Lee Wee Nam Library Learning Commons?\n",
      "How do I find Audiovisual materials using Library Catalogue?\n",
      "Are materials without any copyright notice or copyright statement copyrighted?\n",
      "What does the term (nocirc) in the Library Catalogue mean?\n",
      "I need to print my lecture notes. Where is the printing service in HSS Library?\n",
      "What other services does the photocopying service vendor provide?\n",
      "Does all NTU Libraries have the NTU wireless network?\n",
      "How do I make an NTU library catalogue search in EndNote?\n",
      "Where is CMIL?\n",
      "What are A-type materials in Art, Design & Media Library?\n",
      "Where is the Art, Design & Media Library?\n",
      "I have a query about my project/assignment/research and I am looking for related materials in the library. Who can I approach?\n",
      "Where is the Chinese Library?\n",
      "Where can I find statistics on the number of elderly residents residing in a Singaporean estate for 2010?\n",
      "How do I access VOD titles?\n",
      "Can I view audiovisual materials at HSS Library?\n",
      "Is wireless connectivity possible within Business Library?\n",
      "Are there any computer terminals in NTU Libraries? Are the computers in NTU Libraries connected to the Internet?\n",
      "Where do I pay my fines or top up my cash card in Art, Design & Media Library?\n",
      "How many years are available for exam papers on the exam papers website?\n",
      "Can I drop all the books I borrowed into the book deposit bins?\n",
      "What is full text @ NTU Library? How do I use full text @ NTU Library?\n",
      "Where can I obtain pricing and supplier information of commercially available chemicals through name or structure-searching?\n",
      "How soon do I have to submit my paper into DR-NTU as part of the OA mandate?\n",
      "Is it necessary for me to use self-check machines when I want to borrow library materials?\n",
      "How much can I download under \"fair dealing\"?\n",
      "How to access standards?\n",
      "Which version of papers do I submit to DR-NTU as part of the OA mandate?\n",
      "What do teaching staff need to do to put copyrighted materials in their coursepack?\n",
      "Can I loan out the DVDs at ADM Library?\n",
      "Where can I get the full report of the 'Singapore Infrastructure Report'?\n",
      "Is the Critical Inquiry project available online?\n",
      "Is wireless connectivity possible within Lee Wee Nam Library?\n",
      "What should I do if I lose my matriculation card or staff card?\n",
      "What is the Library's policy on gifts and donations?\n",
      "Does the library subscribes to Vault.com?\n",
      "How many items can I borrow?\n",
      "Where can I find network points for use with my personal laptop in LWN Library?\n",
      "Why am I not able to print to the library network printers from my laptop?\n",
      "I'm an alumnus at NTU. Am I allowed to attend your workshops?\n",
      "Do I need to upgrade to the new version of EndNote if I already have an older or previous version of EndNote?\n",
      "What is the objective and what are the benefits of having the OA mandate?\n",
      "How do I book library facilities?\n",
      "Can I use someone else's photograph or painting for my poster?\n",
      "Can I check out library DVDs using the self check machine?\n",
      "Can I borrow the books at the Communication and Information Library (CMIL)?\n",
      "Does the Library have electronic books (e-books)?\n",
      "Where are the restrooms in HSS Library?\n",
      "Where is the Lee Wee Nam Library Learning Commons?\n",
      "How do I use the 'Find Full Text' function in EndNote to retrieve full text PDF articles?\n",
      "What are Subject Guides?\n",
      "What does the term \"restricted\" in the Library Catalogue mean? Can such items be borrowed?\n",
      "Is software copyrighted?\n",
      "Can I visit the library ?\n",
      "If a faculty has already submitted details of a new paper and attached the full text to RIMS, does he still need to deposit the document in DR-NTU?\n",
      "Where do I go to pay my library fine?\n",
      "What is the maximum period for renewing a book?\n",
      "Can electronic resources subscribed by NTU Library be accessed remotely?\n",
      "What should I do if I cannot launch a library webpage?\n",
      "Can I leave my laptop in the Library? Does the Library loan out laptop locks? Where can I borrow laptop locks in the Library?\n",
      "Does One Search cover all NTU subscribed databases?\n",
      "How to request for NTU documents (including theses) ?\n",
      "Does the Library provide printing services?\n",
      "Where is the Humanities & Social Sciences Library?\n",
      "Under what circumstances is copyright protection not infringed?\n",
      "Do we have ASTM?\n",
      "What is the product/license key for EndNote(Windows)? I can only install the 30-Day trial version of EndNote(Windows).\n",
      "How can i find information on admissions?\n",
      "Why do I get a syntax error when searching in Factiva?\n",
      "Where can I find statistics on Singapore?\n",
      "Can I view audiovisual materials at Business Library?\n",
      "Can NIE users download EndNote?\n",
      "I am an NTU alumnus. How can I join NTU Library ?\n",
      "I need to print my lecture notes. Where is the printing service at Lee Wee Nam Library?\n",
      "How do I find data on bilateral trade between China and other countries, such as US, UK, India, Singapore, EU, etc?\n",
      "What are some essential information about the Library that freshmen need to know?\n",
      "Where can I print my lecture notes?\n",
      "Is wireless connectivity possible within the Art, Design & Media Library?\n",
      "What is the maximum number of books I can check out at one time?\n",
      "Can graduate students working as part-time research assistants in NTU continue to access library's e-resources from home or remotely?\n",
      "How do I remove the name of author or year from an in-text citation using EndNote?\n",
      "Are there any computer terminals at the Business Library?\n",
      "Can I find computers in the library to use for my assignment?\n",
      "How do I request for materials that are currently on order?\n",
      "Why did library staff remove my things from my seat when I was away?\n",
      "Where can I print colour materials?\n",
      "Where can I find the Internal Security Act for Malaysia?\n",
      "If a faculty has already submitted a new publication directly to DR-NTU, does he still need to update RIMS?\n",
      "Are there any computer terminals at HSS Library?\n",
      "Why is the full-text of my paper not available in DR-NTU (open repository) even after I have successfully submitted it?\n",
      "What are the restricted book titles in Art, Design & Media Library?\n",
      "What is document delivery?\n",
      "How can I create subheadings in my bibliography?\n",
      "Does the Library accept donations? What kind of donations does the Library accept? How do I go about donating to the Library? Will any acknowledgement be given to the donor?\n",
      "How to locate ACI 318:05 (Building Code Requirements for Structural Concrete and Commentary)?\n",
      "I have a query regarding my project/assignment/research and I am looking for related materials in ADM Library. Who can I approach?\n",
      "How do I borrow Reserves items?\n",
      "Do National Institute of Education (NIE) users have remote access to NTU Library's e-resources?\n",
      "How do I sign up for an EndNote Web account?\n",
      "How do I locate specific e-journal articles?\n",
      "Can I request for books from various NTU libraries to be sent to a designated library for my collection?\n",
      "Where are the NTU Libraries?\n",
      "Where can I buy cashcards?\n",
      "Can I use copyrighted materials if I provide full acknowledgement?\n",
      "What is DR-NTU?\n",
      "What do I do if I want to borrow the RBR item beyond the 2-hour limit?\n",
      "What is interlibrary loan?\n",
      "Do I have to check whether the publisher of my paper allow self archiving before submitting to DR-NTU as part of the Open Access mandate?\n",
      "Is there a photocopier in ADM Library?\n",
      "I've forgotten my password for SciFinder. How can I retrieve it?\n",
      "What is the difference between My NTU Library Account and My One Search Account?\n",
      "How can I go to the Library's database or the electronic journal list from One Search?\n",
      "Does the library provide internship opportunities?\n",
      "What is my loan duration for library materials?\n",
      "How does the right to communicate apply to the use of library subscribed electronic resources?\n",
      "How many hours can I use the Bloomberg terminals? How do I book the Bloomberg terminal in the Library?\n",
      "Can current periodicals be borrowed?\n",
      "Where can I top up EZ-link cards at NTU?\n",
      "How do I upload my publication list to ResearcherID?\n",
      "How do I know which version does the publisher of my article allow me to submit to DR-NTU for archiving and Open Access?\n",
      "Can I know what is NTU Libraries' Facebook address?\n",
      "What are the opening hours of Communication and Information Library (CMIL)?\n",
      "How can I use EndNote for collaborative projects?\n",
      "Where is the photocopy service in LWN Library?\n",
      "Is it possible for Associate Member to access the online databases from home?\n",
      "Do we have the British Standards?\n",
      "Can alumni library members access exam papers?\n",
      "Where is the Business Library?\n",
      "How do I log in to my library account ?\n",
      "How part-time teaching staff apply for library membership?\n",
      "How do I find key telecommunication indicators for Singapore, Korea, Finland and Taiwan?\n",
      "What are the databases or e-journals that I have access to as a Graduate / Personal / Corporate Member?\n",
      "How do i login to the library catalogue?\n",
      "What does ADM Library collection consists of?\n",
      "How do I submit my papers to DR-NTU as part of the OA mandate?\n",
      "Can I request the library to find materials that are not available in the library's collection?\n",
      "Where can I get a list of Science Citation Indexed journals?\n",
      "I'm an ex-research staff of an NTU affiliated organization. Am I required to pay an annual fee for membership?\n",
      "Is wireless connectivity possible within HSS Library?\n",
      "Can multiple copies be made or communicated for a course conducted by the University?\n",
      "Am I entitled to borrow books from other libraries if our Library does not have the item I need?\n",
      "What is One Search?\n",
      "I don't know how to use EndNote. Where can I get help to get started?\n",
      "Can I view audiovisual materials at the Communication and Information Library (CMIL)?\n",
      "Are there discussion rooms in Business Library?\n",
      "The Halsbury's laws of England catalogue record says that it is in \"Closed stacks (request at counter)\". I need to refer to it urgently, What should I do?\n",
      "How do I return Reserves materials?\n",
      "Can I find students' notes in Digital Repository - NTU (DR-NTU)'s collection?\n",
      "What are the rules for using Library PCs? What can I do at the computers in the Library?\n",
      "What will happen to my EndNote libraries when I upgrade to a newer version of EndNote?\n",
      "What are stand-alone computers?\n",
      "How do I call the Library?\n",
      "Which database provides market capitalization data of US listed companies?\n",
      "What are the ways to apply for a part-time job in the library?\n",
      "How can I find out more on NTU Library membership?\n",
      "How do I request for NTU papers (including theses)?\n",
      "What should I submit to DR-NTU?\n",
      "Can I get the Library to reserve \"available\" items for me to pick up?\n",
      "How long does it take for my paper to be published in DR-NTU and available for the research community worldwide?\n",
      "Do I need to pay to borrow an e-book from EBL?\n",
      "What should I do if I would like to hold an exhibition in NTU libraries?\n",
      "Is there a database that has the text of IPO prospectuses from Chinese firms listing in domestic stock markets (Shenzhen, Shanghai, etc)?\n",
      "How do I find books?\n",
      "Can I print a document from DR-NTU (Restricted access) http://repository.ntu.edu.sg/?\n",
      "Which databases are available for alumni?\n",
      "Where can I find network points for use with my personal laptop in Library 2?\n",
      "Can I request for the Library to purchase books for my personal use?\n",
      "After graduation, will my present library membership be revoked? Will graduates have the privilege to access library resources?\n",
      "How do I renew books that I have borrowed?\n",
      "Can the author place the full text of his paper in his personal web site and his institutional repository?\n",
      "How can I find journals?\n",
      "I need to cite a reference from wikitravel: http://wikitravel.org/en/Pattaya. Can you advise me on how to cite it?\n",
      "Can the hard copies of past final year project reports and theses be borrowed by undergraduates?\n",
      "Does the Library have a Chinese version of a humanities and social science index?\n",
      "I have overdue fines for AV materials. How much do I owe?\n",
      "What kind of services do the librarians at the Research Assistance Desk provide?\n",
      "What are 1-hour PCs?\n",
      "How to reset my network password?\n",
      "Does NTU provide Harvard Business Review cases?\n",
      "What are the fines for overdue materials?\n",
      "What publications do I submit to DR-NTU as part of the OA mandate?\n",
      "Why is my NTU username and password rejected after logging in IEEE Xplore? Why do I receive a message about 'all online seats are currently occupied at your institution' ?\n",
      "Does the library have examiners' reports?\n",
      "What are instructional facilities? How to book them?\n",
      "How can I access Gartner Core Rearch?\n",
      "Where can I find network points for use with my personal laptop in HSS Library?\n",
      "Does the Library provide photocopying service?\n",
      "Can I use a work without the author's permission?\n",
      "What is SFX?\n",
      "Where can I find network points for use with my personal laptop in the Communication and Information Library (CMIL)?\n",
      "Is photocopying of any copyrighted materials allowed? How much can I photocopy under \"fair dealing\"?\n",
      "Can I view my own AV materials using the viewing equipment in ADM Library?\n",
      "What should I do if I am unable to access full text of articles via the links in PDF documents after logging into a subscribed database from the Library?\n",
      "How do I get assistance from the Library to submit my papers to DR-NTU as part of the OA mandate?\n",
      "Which e-resource can we use to locate information on Alloy Phase Diagrams?\n",
      "Can I make advanced reservation for the cinema room or plasma TV at ADM Library?\n",
      "How can I find the PhD thesis of other universities?\n",
      "How do I find out when the library opens and closes?\n",
      "I need to study. Are there any quiet study areas in the Business Library?\n",
      "Where can I find answers to examination questions?\n",
      "How do I UNINSTALL EndNote for Windows?\n",
      "Does the Library have subject guides to help me locate materials?\n",
      "Will journal publishers allow me to put up my publications for free access to others?\n",
      "I'm an ex-teaching staff of NTU. Am I required to pay an annual fee for membership?\n",
      "What is Open Access (OA) mandate?\n",
      "Where is the reading areas located in the Communication and Information Library (CMIL)?\n",
      "Why is there an error in downloading the paper under Molecular Physics Database?\n",
      "I am a National Institute of Education (NIE) student. What should I do if I would like to use the NTU libraries?\n",
      "Where can I find the statistical information of the Malaysian economy e.g. unemployment, inflation rate, etc for the past ten years?\n",
      "Where can I find a list of Universities that offer Humanitarian Studies?\n",
      "Can I make payments for printing and photocopying services in Art, Design & Media Library using an eZLink card?\n",
      "What are the opening hours of Lee Wee Nam Library?\n",
      "What does it mean when my book is recalled by the Library?\n",
      "Can I join the NUS Libraries or the polytechnic libraries? How can I become a library member of NUS Libraries or polytechnic libraries?\n",
      "What is a proxy borrower? And how can I apply for proxy borrowing service?\n",
      "What kind of courses do you offer and how do we register ?\n",
      "How do I borrow materials that are \"material being catalogued\" in the library catalogue?\n",
      "Is NTU Library open to students from UniSIM?\n",
      "What is the product/license key for EndNote (Macintosh)? I can only install the 30-Day trial version of EndNote(Macintosh).\n",
      "Who may use the NTU Library?\n",
      "Does the Library have ITU standards?\n",
      "Can I use EndNote with OpenOffice?\n",
      "How to obtain permission to use copyrighted materials if it exceeds the legal limit?\n",
      "Do NIE users or Associate Members have access to DR-NTU (Restricted Access)?\n",
      "How do I export citations from Factiva to EndNote?\n",
      "Does NTU Library have IEC standards?\n",
      "Why can't I download EndNote?\n",
      "Is there photocopying service in the Communication and Information Library (CMIL)?\n",
      "Do you offer online chat reference?\n",
      "Can I get my on hold books to be transferred to a library of my choice?\n",
      "How much time do I need to give the Library for my VOD requests to be uploaded onto the VOD server?\n",
      "Where are the restrooms in Business Library?\n",
      "How do I cite an interview using EndNote?\n",
      "Is caching a violation of copyright protection?\n",
      "How many audiovisuals can I check out at one time?\n",
      "What are the facilities in the Library that I need to book in advance before using?\n",
      "Can I print a document from the digital repository?\n",
      "Can I use EndNote with Mac Pages?\n",
      "Can I request the Library to buy books using my research funds?\n",
      "What if the book I need is missing on the shelf?\n",
      "Are there any individual reading carrels in NTU library?\n",
      "Where to top up Cashcards?\n",
      "How do I locate the backfiles of the Journal of Hydraulics Division?\n",
      "Where are the restrooms in Lee Wee Nam Library?\n",
      "What are the operating hours of the copy room in Business Library?\n",
      "What are the related databases available for Art, Design & Media?\n",
      "How do I place a hold on a library item? How do I know when my library item is ready for collection?\n",
      "Why are some exam papers not available on the website?\n",
      "Where can I return ADM Library books?\n",
      "Where are the microfilm readers?\n",
      "Can I bring coffee into the library?\n",
      "Where is the Wang Gungwu Library?\n",
      "How can I request the library to buy a journal article for me?\n",
      "How do I get markers for the glass wall at Art, Design & Media Library?\n",
      "What should I do if I cannot access a subscribed database from the Library?\n",
      "How to renew a book on-line which is already on hold?\n",
      "Does our library have subscription to the EuroCode?\n",
      "I am from NIE. How can I print using the network printers in NTU Library?\n",
      "How to use Turnitin?\n",
      "Who can use the library's study rooms? How do I book a study room?\n",
      "How long does interlibrary loan take?\n",
      "Where is the photocopying service in Business Library?\n",
      "Where can I get local cases and judgements for Workplace Safety?\n",
      "Who do I contact if I need further assistance with regards to submitting to DR-NTU as part of the OA initiative?\n",
      "How do I configure my laptop to send print jobs to the printer service managed by the vendor in the library?\n",
      "What are the settings in Google Scholar for EndNote?\n",
      "How to search on a specific topic?\n",
      "Can I return the AV materials through the book deposit bins?\n",
      "Is there a place in Lee Wee Nam Library where I can get some peace and quiet to study?\n",
      "Are there any printing services available in ADM Library?\n",
      "What is bX Recommender?\n",
      "How do the terms and conditions of use of a contract or licensing agreement affect copyright?\n",
      "Is there a cut-off time for viewing AV materials in the cinema room or plasma TV?\n",
      "How to edit EndNote citation style to show a single author (i.e. \"Lee et al, 2009\" instead of \"Lee, Khor, Chan, Lim, Tan, 2009\")?\n",
      "How to access Strait Times Interactive?\n",
      "Do authors have to ask permission from publishers before they deposit papers in DR-NTU?\n",
      "How to access citation indexes?\n",
      "How do I save data, files or documents from library PCs?\n",
      "I'm unable to attend some of your training classes on campus. Do you have online tutorials?\n",
      "I need to access a patent in the USPTO patent database. Can you please guide me how to download it?\n",
      "How do I search for ADM Library materials in the library catalogue?\n",
      "I am an overseas exchange student. Do I need to open a library account by myself?\n",
      "What is the opening hours of Chinese Library?\n",
      "How can I access full text content in One Search?\n",
      "Where and how can I view audiovisual (AV) titles in ADM Library?\n",
      "How do I back up or save EndNote library and EndNote styles/filters/connection files?\n",
      "I am a visitor how can I access DR-NTU?\n",
      "Where are the reading areas located in Lee Wee Nam Library?\n",
      "Who should submit to DR-NTU?\n",
      "Where do I return my library materials?\n",
      "How to merge two or more word documents (different EndNote Libraries) into one document?\n",
      "How can a visiting professor or research fellow apply for library membership at the Communications and Information Library (CMIL)?\n",
      "I am a foreign librarian and would like to visit the Library and have discussions with NTU librarians, how do I make the arrangements?\n",
      "Where can I find information on academic services?\n",
      "How do I request for AV titles to be placed in Video on Demand (VOD) for my class use?\n",
      "Where is Lee Wee Nam Library?\n",
      "Why am I unable to find the exam papers for my course?\n",
      "How do I know what databases to use for my research?\n",
      "Is NTU a member of Hindawi Publishing Corporation? Can NTU Libraries make arrangements to join Hindawi as an Institutional member?\n",
      "How can I find information on the subject area on SIM card and EZlink card technology?\n",
      "I am a student but why am I unable to login to access the Library's e-resources?\n",
      "Where are the book deposit bins located?\n",
      "I am not an NTU Library member. Is it possible for me to use your library?\n",
      "Are there printing facilities in the Communication and Information Library (CMIL)?\n",
      "What should I do if I lost or damage my library books?\n",
      "What are the borrowing privileges for members of the NTU Board of Trustees, senior government officers and members of parliament?\n",
      "Can non-library members visit and view materials at libraries such as the Communication and Information Library (CMIL)?\n",
      "Does the Associate Membership at NTU Library include borrowing privileges at NIE Library?\n",
      "How do I contact the Art, Design & Media Library?\n",
      "How can I access theses from NUS?\n",
      "Can I use the latest version of EndNote to open libraries created using a lower version of Endnote (EndNote 8, 9, X1, X2, and X3)?\n",
      "Where is the photocopy service in HSS Library?\n",
      "Under NTU Open Access mandate, is the author required to submit all articles accepted for publication?\n",
      "Do you have a list of courses that you offer generally?\n",
      "What are the opening hours of Business Library?\n",
      "Are we allowed to eat in the library?\n",
      "Can alumni access databases and e-journals after they have graduated?\n",
      "Are television and radio programmes copyrighted?\n",
      "Do I have to submit accepted publications published prior to the OA mandate?\n",
      "Can I export citations from Wanfang to EndNote?\n",
      "What time does overnight loan for Reserves items start?\n",
      "How do I register for EndNote training?\n",
      "Our lecturer has informed us to view an audio-visual title for class. Where can I find that audio-visual title?\n",
      "Where can I find digital copies of NTU theses/Final Year Projects/attachment reports?\n",
      "I need to print my lecture notes. Where is the printing service in Business Library?\n",
      "What is the NTU Library Toolbar?\n",
      "Where are the reading areas located in Business Library?\n",
      "What are the opening hours of Humanities and Social Sciences Library?\n",
      "Why does this message (client IP is block because: Spider trap hit Blocked IPs: 155.069.004.004 - 155.069.004.004) appear when I'm trying to enter into the CRCnetBASE?\n",
      "May I submit the bibliographic details / paper to DR-NTU if the publisher does not support self archival policies?\n",
      "Can visitors use NTU library?\n",
      "I'm a research student at NTU. I'm interested in your Citation Analysis classes. How do I register for it?\n",
      "Why can't I download the full text of some articles?\n",
      "How do I use the Library Catalogue ?\n",
      "How can I know whether I am qualified to be a member of NTU Libraries or not?\n",
      "Why am I not able to access the library's e-resources with my NTU alumni account?\n",
      "Can the Library's audio-visual materials be used for screening by schools, student clubs and societies?\n",
      "How do I know whether I am eligible to arrange for an interlibrary loan from NTU Library?\n",
      "I am a NTU new staff and have been here for less than 1 month. Can I borrow books from now on?\n",
      "Where are the restrooms in the Communication and Information Library (CMIL)?\n",
      "How do I configure EndNote toolbar in MS Word for Mac?\n"
     ]
    }
   ],
   "source": [
    "for i in range(len(questions)):\n",
    "    if categories_string[i] == 'Home > Library Services':\n",
    "        print(questions[i])"
   ]
  },
  {
   "cell_type": "code",
   "execution_count": 34,
   "metadata": {},
   "outputs": [
    {
     "name": "stdout",
     "output_type": "stream",
     "text": [
      "How does the weighting system works? Does having higher weights mean a better chance of getting the room that I want?\n",
      "Why are Senior Hall Fellows given 40 places for discretionary allocation?\n",
      "Why are there some sports with no points awarded for participation?\n",
      "What is the Pretty Tuff website?\n",
      "I am involved in an external/non-NTU club and would like to publicise my club's activities. Can I seek permission to paste posters around campus? Can you help me blast an email out to the student population?\n",
      "Where is Hall 2?\n",
      "How to obtain the giro application form for payment\n",
      "How can I get funding for club or sports events?\n",
      "When do I need to pay the hall application fee?\n",
      "What determines a student's chances of getting the room that he/she wants?\n",
      "What are the requirements for starting a club/subclub in NTU?\n",
      "Are the sports facilities open to the public?\n",
      "When must we vacate our rooms after the second term\n",
      "NIE students can apply for hall for new academic year?\n",
      "I am a senior and i intend to apply for hall with my younger sister who is going to be a freshman. I have a total of 11 points which doesnt meet the requirement. Will i be given priority?\n",
      "Can my family live with me in the undergraduate hall of residence?\n",
      "How to apply for Hall during school term\n",
      "How and when can I apply for accomodation after i come back from GIP for semester 1\n",
      "office of academic services contact number\n",
      "Where is hall 6?\n",
      "How are the Competitions being classified\n",
      "where is hall 16?\n",
      "If I did not get any eca point last year (I live outside campus), is it possible for me to get a double room with random room mate?\n",
      "Will i get a refund if i move out of hall one month before the semster ends\n",
      "where to collect graduation certificate\n",
      "Are students allowed to choose their toilet sharers if they wish to apply for Hall 1 and Hall 2?\n",
      "Can i apply for hall now?\n",
      "can i still key in the ECA record after dateline?\n",
      "What should I do when I sign the lease agreement?\n",
      "Does the number of places reserved for university athletes include reserved players?\n",
      "where is hall 10\n",
      "What are the opening hours of the swimming pool?\n",
      "How to apply for single room for the new acad year?\n",
      "What are the healthy lifestyle events on campus?\n",
      "How Instep student find a place in hall\n",
      "Can a student request for transfer of hall?\n",
      "Is the Hall Admission Scheme skewed in favour of international students since they are by default assigned the highest point for distance?\n",
      "What is the price of each room?\n",
      "Can students who are eligible for the sports scheme opt for allocation under HAS Category C? Especially since sports scheme assigns only twin-sharing rooms?\n",
      "Can students who do not meet the minimum Campus Life Involvement apply for hall?\n",
      "Can seniors use freshmans names to stay in a hall?\n",
      "SAC opening housrs\n",
      "What are the opening hours of Student affairs office and Hall Offices\n",
      "What are the type of rooms available for students in the Halls?\n",
      "may i know when will be the next application date for hall?\n",
      "Where is Hall 1?\n",
      "Availability of accommodation\n",
      "is the hall accomodation alloted for all the 4 years of education at NTU\n",
      "What are the withdrawal matters that I should take note if I wish to move out./withdrawal from Hall\n",
      "i want to know about school time for coming year 20008?\n",
      "where is hall 15\n",
      "What are the charges for dance room\n",
      "eligibility medical scheme?\n",
      "If I have checked in to the hall, may I withdraw?\n",
      "Can I apply for a single room?\n",
      "How can I apply for the Sports Scholarship?\n",
      "When do we need to leave the hall\n",
      "Where to get the giro application form for hostel bill\n",
      "What are the sports teams that I can join in NTU?\n",
      "Where is Student Affairs Office (SAO)?\n",
      "must I pay for accomodation in december?\n",
      "How can athletes be given zero points for participation and involvement in a sport?\n",
      "Are the Banding Categories static? Will the lower banded sports receive support from the university?\n",
      "Where can I find the postal codes table used as basis for computation of travelling time\n",
      "My school office has helped me book a booth via the 'Pavilion and Canopy Booking System' for our project / activity. Where can I collect tables and chairs for the booth setup?\n",
      "Can an undergraduate work part-time?\n",
      "what is the bus schedule for internal shuttle bus in ntu\n",
      "What is the effect on the total points for newly elected management committee members under Cat A for admission to halls in the following academic year?\n",
      "giro application form\n",
      "How do I check for closure of sports facilities and the swimming pool?\n",
      "when will HOLA open again?\n",
      "Is there \"legal squatting\" in hall?\n",
      "what financial assistance are there?\n",
      "What are the benefits of Ezlink Cards?\n",
      "What should I do if my neighbours are too noisy?\n",
      "What should I do if I wish to withdraw my hostel/hall application\n",
      "What are the points for Campus Life Involvement under HAS?\n",
      "What are SAO contact numbers ?\n",
      "What facilities are provided at the hall?\n",
      "How will I know if my application has been submitted successfully?\n",
      "How do I get to the Sports and Recreation Centre?\n",
      "How do I accept the offer online?\n",
      "How are points allocated to ECA organised by the Halls' JCRC or other students' organisations\n",
      "Can an international student gets extra 2 point if choose Singaporean as roomate but don't key in his/her name?\n",
      "What are the charges for applying for 'temporary-sharing' arrangement\n",
      "If participation were truly to be borne out of interest, why would the new scheme still reward participants for Campus Life contribution?\n",
      "How are the 2 weightage points given for a local student willing to share with an international student and vice versa?\n",
      "Do I have a choice of hall or room?\n",
      "Will there by any exception to the case?\n",
      "I foresee that the participation rate in student activities would be affected by the implementation of the Hall Admission Scheme. Does the university have any concern over this?\n",
      "Can I apply with NTU/NIE senior students as roommates?\n",
      "What is the Rekreat website?\n",
      "i would like to rent a fridge for 1 semester\n",
      "Where is Hall 7\n",
      "where is hall 14?\n",
      "How do I book the swimming pool?\n",
      "Do students on IA (local or overseas) or Exchange Program (local or overseas) for one semester need to satisfy the minimum Campus Life Involvement in Annex B-1\n",
      "what is the rental rates for undergraduate hall rates for AY 08/09\n",
      "where is hall 12?\n",
      "What are the rules n regulation governing residence in undergraduate halls on campus\n",
      "How to apply for accommodation in the Halls without password\n",
      "What are the opening hours of sports facilities?\n",
      "What are the recreational games available?\n",
      "When is the earlist time that we can move into our room if our application is successful for the new academic year?\n",
      "Can I rent a room from NTU dormitory over the summer? I will be interning in Singapore.\n",
      "Hi, I am a Year 3 NTU student. Currently I am on Exchange in Sweden, and I had to give up my accomodation in Hall 12. And now I will be returning to NTU for the 2nd semester soon, I'd like to ask how I can get a room. Thanks\n",
      "May i know if it is possible for me to take over my friend''s room who had decided to move out?\n",
      "If I am staying in a double room, can i choose who to stay with?\n",
      "What if I decide to stay in a hall later in the year?\n",
      "Do the cost of the rooms include cost of meals?\n",
      "Where is NTU?\n",
      "How can I be kept informed of upcoming sports events or announcements?\n",
      "Is there restriction to sharing of room with different genders?\n",
      "If a local student finds that he or she is unable to get along with an international student, or vice versa, what can he or she do?\n",
      "Can senior student apply to stay with a new student?\n",
      "what is the number of students in NTU?\n",
      "When is the hall application date in Sem 2 ?\n",
      "What are the payment modes for the application fee?\n",
      "My club has questions regarding organizing of activities and events, who can I approach?\n",
      "May I know if the singaporean roommate that I have applied with could not get a place in hostel, will I be placed with another singaporean or international student?\n",
      "My club is organizing an event and I wish to publicize the event on campus. How do I go about doing it?\n",
      "does accommodation include breakfast\n",
      "How are the students on the waiting list allocated a hall or room?\n",
      "What are the sports teams' Banding Criteria and Classifications?\n",
      "What are the sports equipment available for loan?\n",
      "Would it be unfair if the 150 places under Category A set aside for Non-Constituent Clubs include 'sleeping' clubs (inactive)?\n",
      "How is the room allocation done? Are students allowed to choose their room? Will immediate past residents have priority to the same room?\n",
      "What is the cost for off -campus housing?\n",
      "if i din't join any eca , can i stil appy for hall?\n",
      "Why are university athletes guaranteed hall accommodation while other categories of competition participants are not given such a privilege?\n",
      "How to apply for temporary-sharing arrangement in the Halls?\n",
      "Can a student request to transfer to another hall?\n",
      "What is the purpose of the scheme and how does it work?\n",
      "How to withdraw from the hall?\n",
      "How do we get to NTU using bus?\n",
      "How do I book sports facilities?\n",
      "I am a senior student and when will I know the result of my hall application for the new academic year?\n",
      "What are the charges for use of the swimming pool?\n",
      "I am unable to enter HOLA recently, and i urgently need to change my application. Is there any way i can do it?\n",
      "What does \"returning resident\" mean?\n",
      "how the newly elected management committee members in the current year are allocated a hall?\n",
      "How can I sign up as a supporter of sports events?\n",
      "What is the deadline for senior students to pay hall application fee?\n",
      "When do the halls close\n",
      "Where is Hall 5\n",
      "Will there be changes made to the Hall Admission Scheme in future?\n",
      "Where is Hall 8?\n",
      "Is ECA points transferable?\n",
      "Will co-opted or appointed Management Committee members in student organisations be eligible under Category A?\n",
      "where can i check whether i have applied for hall?\n",
      "What is the size of the bed and mattress?\n",
      "What are the payment modes for the acceptance fee?\n",
      "Is it possible to switch halls after a semester?\n",
      "if i go for instep, can i still keep my room in hall?\n",
      "if i am and PR, but I don't have a local home in sg, do I entitle for the same distance points for the international students?\n",
      "how to change address on line\n",
      "ns reservist deferment\n",
      "results of scholarship\n",
      "Can male & female share one room?\n",
      "Information on LT Booking\n",
      "How to apply for accommodation in the Halls during special term\n",
      "How are the weightings computed under Cat C?\n",
      "where is Hall 3?\n",
      "My club wants to organize an event, how do we go about getting approval?\n",
      "Student Accommodation email\n",
      "Is bed linen provided?\n",
      "Where can I find information on the hall admission scheme?\n",
      "If a local student opts for single room, will he/she still be awarded the 2 weightage point if he/she is willing to share with an international student, or vice versa?\n",
      "Can I be placed on waiting list?\n",
      "accommodation for visiting conference participants\n",
      "Can my relative stay in my room during the holiday period?\n",
      "What is the utiility charge if I install a refrigerator in my hostel room\n",
      "How can I book the Student Activities Centre or Global Lounge to hold an event?\n",
      "how to check the points for my traveling time?\n",
      "How can I check on the status of my application?\n",
      "What are the rental rates for all the halls?\n",
      "Can I apply with an NTU/NIE freshman as a roommate?\n",
      "Why are students in Special University Programmes (CN Yang Scholars Programme) guaranteed hall accommodation?\n",
      "What is the accommodation charges for undergraduate hall from 1 Aug 08\n",
      "Why does the university allocate points to a local student willing to share a room with an international student or vice versa?\n",
      "can i get my application outcome for the new academic year earlier?\n",
      "If my student's pass has been expired during my study in NTU, how to apply for an extension of the student's pass?\n",
      "Can I make changes to the information in my application after submission?\n",
      "How have the 550 reserved placements been derived?\n",
      "I have a singaporean friend which for this academic year never join any ECA, but since his distance point is 8 and plan to apply with me(a malaysian), and he wish to stay at hall. Can he apply and will he get the 1 point for staying with me?\n",
      "May I know some details about Tertiary Student EzLink Concession Card, its application and benefit; etc?\n",
      "How to register if I have a HDB room for rent to NTU students?\n",
      "Who can apply?\n",
      "What are the rental rates for each undergraduate Hall?\n",
      "What are the student organisations in NTU and how could I participate in their activities?\n",
      "If I am going for exchange programme in NUS or SMU for one semester,can I still stay in hall of NTU?\n",
      "Can I install my own air-conditioner, wall or ceiling fan in the room?\n",
      "if i do not stay in hall last year, even though i have the points, do the points accumulate to this year so that i can apply hall for next year. (if i do not participate any this year)\n",
      "What are the charges for use of the gymnasiums?\n",
      "sick during exam\n",
      "What is the hall application process for senior students?\n",
      "What phone number should I call regarding hall security\n",
      "Are air-conditioned rooms available in the undergraduate Halls?\n",
      "what is acceptance fee?\n",
      "What are the sports facilities available on campus?\n",
      "Who do I contact regarding sports on campus?\n",
      "What is the distance point?\n",
      "what time does the reading room close\n",
      "What is the charge for loss of room key/access card\n",
      "Why is the total allocation for Non-Constituent Clubs capped at 150?\n",
      "where is hall 9\n",
      "hall allocation in 2'nd semester\n",
      "nanyang house opening hours\n",
      "where is hall 13?\n",
      "NIE student teacher for year 2 can apply for hall for the new academic year?\n",
      "How does the university obtain information on Campus Life participation?\n",
      "Where can I send my feedback or input on the Hall Admission Scheme?\n",
      "Where is the NTU Medical Centre?\n",
      "Hi, I would like to know if we can move out of our halls in december and then move back in again after the semester break to avoid paying for the hostel fees? I understand that the hostel fee has already been deducted but can I get a refund?\n",
      "Can senior student apply to stay in the same room with cousin who is a new student joining the university in Aug?\n",
      "Address of NTU Hall of Residence 13\n",
      "lost matriculation card?\n",
      "SAO fax number\n",
      "Are visitors allow to visit the hall residents\n",
      "withdrawal from ntu\n",
      "how many halls does NTU have?\n",
      "How is the allocation of hall done?\n",
      "How can I check the weightage or points for admission to hall for the new academic year?\n",
      "How are the single rooms allocated?\n",
      "Will the weightings of a student be added on if he or she joins more than one committee?\n",
      "How do the different types of accommodation available compare?\n",
      "where is hall 11?\n",
      "How did the university arrive at the point system for Campus Life participation (Category C)?\n",
      "How to pay the hall rental fee?\n",
      "student insurance plan\n",
      "Are we allowed to keep pets in hall?\n",
      "What are the charges for use of sports facilities?\n",
      "Is it self dining or hall dining for students staying in the Halls?\n",
      "What are the medical and physiotherapy treatment available for students?\n",
      "What is the basis do you use for deciding on the different weightings for travelling distances from the university?\n",
      "where are the hall\n",
      "What is Hall Admission Scheme (HAS)?\n",
      "Are students allowed to choose their roommate?\n",
      "What should I consider when finding a place to live off-campus?\n",
      "Are the four levels of points for Campus Life participation too broad?\n",
      "As what I know, for a foreigner student willing to stay with a local student,they will be entitled extra 2 point for that or vice versa. If I am a PR student, am I counted as foreigner student and be awarded the 2 point if i willing to stay with local?\n",
      "Can new student choose specifically to be allocated to Halls with air-conditioned rooms?\n",
      "How do I publicise my club's events on Campus Buzz?\n",
      "What is General Cut-off Weight (GCW) or General Cut-Off Point (GCP) and how it is derived?\n",
      "matriculation for NS\n",
      "What is waitnig list and how is it process?\n",
      "where is Hall 4?\n",
      "Can I request for ECA Certificate?\n",
      "Who should I contact regarding matters of the hall which I am staying now\n",
      "Is it possible to withdrawal from hall at anytime?\n"
     ]
    }
   ],
   "source": [
    "for i in range(len(questions)):\n",
    "    if categories_string[i] == 'Home > Campus Life':\n",
    "        print(questions[i])"
   ]
  },
  {
   "cell_type": "code",
   "execution_count": 35,
   "metadata": {},
   "outputs": [],
   "source": [
    "categories_string = mergeLabel(categories_string, 'Home > Teaching & Learning + Home > IT Services', 'Home > Library Services')"
   ]
  },
  {
   "cell_type": "code",
   "execution_count": 36,
   "metadata": {},
   "outputs": [],
   "source": [
    "counter = Counter(categories_string)"
   ]
  },
  {
   "cell_type": "code",
   "execution_count": 37,
   "metadata": {},
   "outputs": [
    {
     "data": {
      "text/plain": [
       "Counter({'Home > Alumni Services': 16,\n",
       "         'Home > Campus Life': 250,\n",
       "         'Home > Career & Attachment': 74,\n",
       "         'Home > Donation': 13,\n",
       "         'Home > Exchange & Attachment': 174,\n",
       "         'Home > Facility Services': 37,\n",
       "         'Home > Financial Services': 44,\n",
       "         'Home > Teaching & Learning + Home > IT Services + Home > Library Services': 762,\n",
       "         'Home > Undergraduate Academic Services + Home > Graduate Admissions & Academic Services': 516,\n",
       "         'Home > Undergraduate Admissions & Financial Assistance': 753})"
      ]
     },
     "execution_count": 37,
     "metadata": {},
     "output_type": "execute_result"
    }
   ],
   "source": [
    "counter"
   ]
  },
  {
   "cell_type": "code",
   "execution_count": 39,
   "metadata": {},
   "outputs": [],
   "source": [
    "categories_string = mergeLabel(categories_string, 'Home > Alumni Services', 'Home > Donation')"
   ]
  },
  {
   "cell_type": "code",
   "execution_count": 40,
   "metadata": {},
   "outputs": [],
   "source": [
    "counter = Counter(categories_string)"
   ]
  },
  {
   "cell_type": "code",
   "execution_count": 41,
   "metadata": {},
   "outputs": [
    {
     "data": {
      "text/plain": [
       "Counter({'Home > Alumni Services + Home > Donation': 29,\n",
       "         'Home > Campus Life': 250,\n",
       "         'Home > Career & Attachment': 74,\n",
       "         'Home > Exchange & Attachment': 174,\n",
       "         'Home > Facility Services': 37,\n",
       "         'Home > Financial Services': 44,\n",
       "         'Home > Teaching & Learning + Home > IT Services + Home > Library Services': 762,\n",
       "         'Home > Undergraduate Academic Services + Home > Graduate Admissions & Academic Services': 516,\n",
       "         'Home > Undergraduate Admissions & Financial Assistance': 753})"
      ]
     },
     "execution_count": 41,
     "metadata": {},
     "output_type": "execute_result"
    }
   ],
   "source": [
    "counter"
   ]
  },
  {
   "cell_type": "code",
   "execution_count": 42,
   "metadata": {},
   "outputs": [],
   "source": [
    "categories_string = mergeLabel(categories_string, 'Home > Financial Services', 'Home > Facility Services')"
   ]
  },
  {
   "cell_type": "code",
   "execution_count": 43,
   "metadata": {},
   "outputs": [],
   "source": [
    "counter = Counter(categories_string)"
   ]
  },
  {
   "cell_type": "code",
   "execution_count": 44,
   "metadata": {},
   "outputs": [
    {
     "data": {
      "text/plain": [
       "Counter({'Home > Alumni Services + Home > Donation': 29,\n",
       "         'Home > Campus Life': 250,\n",
       "         'Home > Career & Attachment': 74,\n",
       "         'Home > Exchange & Attachment': 174,\n",
       "         'Home > Financial Services + Home > Facility Services': 81,\n",
       "         'Home > Teaching & Learning + Home > IT Services + Home > Library Services': 762,\n",
       "         'Home > Undergraduate Academic Services + Home > Graduate Admissions & Academic Services': 516,\n",
       "         'Home > Undergraduate Admissions & Financial Assistance': 753})"
      ]
     },
     "execution_count": 44,
     "metadata": {},
     "output_type": "execute_result"
    }
   ],
   "source": [
    "counter"
   ]
  },
  {
   "cell_type": "code",
   "execution_count": 45,
   "metadata": {},
   "outputs": [],
   "source": [
    "categories_string = mergeLabel(categories_string, 'Home > Financial Services + Home > Facility Services', 'Home > Alumni Services + Home > Donation')"
   ]
  },
  {
   "cell_type": "code",
   "execution_count": 46,
   "metadata": {},
   "outputs": [],
   "source": [
    "counter = Counter(categories_string)"
   ]
  },
  {
   "cell_type": "code",
   "execution_count": 47,
   "metadata": {},
   "outputs": [
    {
     "data": {
      "text/plain": [
       "Counter({'Home > Campus Life': 250,\n",
       "         'Home > Career & Attachment': 74,\n",
       "         'Home > Exchange & Attachment': 174,\n",
       "         'Home > Financial Services + Home > Facility Services + Home > Alumni Services + Home > Donation': 110,\n",
       "         'Home > Teaching & Learning + Home > IT Services + Home > Library Services': 762,\n",
       "         'Home > Undergraduate Academic Services + Home > Graduate Admissions & Academic Services': 516,\n",
       "         'Home > Undergraduate Admissions & Financial Assistance': 753})"
      ]
     },
     "execution_count": 47,
     "metadata": {},
     "output_type": "execute_result"
    }
   ],
   "source": [
    "counter"
   ]
  },
  {
   "cell_type": "code",
   "execution_count": 48,
   "metadata": {},
   "outputs": [],
   "source": [
    "categories_string = mergeLabel(categories_string, 'Home > Exchange & Attachment', 'Home > Career & Attachment')"
   ]
  },
  {
   "cell_type": "code",
   "execution_count": 49,
   "metadata": {},
   "outputs": [],
   "source": [
    "counter = Counter(categories_string)"
   ]
  },
  {
   "cell_type": "code",
   "execution_count": 50,
   "metadata": {},
   "outputs": [
    {
     "data": {
      "text/plain": [
       "Counter({'Home > Campus Life': 250,\n",
       "         'Home > Exchange & Attachment + Home > Career & Attachment': 248,\n",
       "         'Home > Financial Services + Home > Facility Services + Home > Alumni Services + Home > Donation': 110,\n",
       "         'Home > Teaching & Learning + Home > IT Services + Home > Library Services': 762,\n",
       "         'Home > Undergraduate Academic Services + Home > Graduate Admissions & Academic Services': 516,\n",
       "         'Home > Undergraduate Admissions & Financial Assistance': 753})"
      ]
     },
     "execution_count": 50,
     "metadata": {},
     "output_type": "execute_result"
    }
   ],
   "source": [
    "counter"
   ]
  },
  {
   "cell_type": "code",
   "execution_count": 51,
   "metadata": {},
   "outputs": [],
   "source": [
    "categories_string = mergeLabel(categories_string, 'Home > Campus Life',  'Home > Exchange & Attachment + Home > Career & Attachment')"
   ]
  },
  {
   "cell_type": "code",
   "execution_count": 52,
   "metadata": {},
   "outputs": [],
   "source": [
    "counter = Counter(categories_string)"
   ]
  },
  {
   "cell_type": "code",
   "execution_count": 53,
   "metadata": {},
   "outputs": [
    {
     "data": {
      "text/plain": [
       "Counter({'Home > Campus Life + Home > Exchange & Attachment + Home > Career & Attachment': 498,\n",
       "         'Home > Financial Services + Home > Facility Services + Home > Alumni Services + Home > Donation': 110,\n",
       "         'Home > Teaching & Learning + Home > IT Services + Home > Library Services': 762,\n",
       "         'Home > Undergraduate Academic Services + Home > Graduate Admissions & Academic Services': 516,\n",
       "         'Home > Undergraduate Admissions & Financial Assistance': 753})"
      ]
     },
     "execution_count": 53,
     "metadata": {},
     "output_type": "execute_result"
    }
   ],
   "source": [
    "counter"
   ]
  },
  {
   "cell_type": "code",
   "execution_count": 54,
   "metadata": {},
   "outputs": [],
   "source": [
    "categories_string = mergeLabel(categories_string,'Home > Campus Life + Home > Exchange & Attachment + Home > Career & Attachment',  'Home > Financial Services + Home > Facility Services + Home > Alumni Services + Home > Donation')"
   ]
  },
  {
   "cell_type": "code",
   "execution_count": 55,
   "metadata": {},
   "outputs": [],
   "source": [
    "counter = Counter(categories_string)"
   ]
  },
  {
   "cell_type": "code",
   "execution_count": 56,
   "metadata": {},
   "outputs": [
    {
     "data": {
      "text/plain": [
       "Counter({'Home > Campus Life + Home > Exchange & Attachment + Home > Career & Attachment + Home > Financial Services + Home > Facility Services + Home > Alumni Services + Home > Donation': 608,\n",
       "         'Home > Teaching & Learning + Home > IT Services + Home > Library Services': 762,\n",
       "         'Home > Undergraduate Academic Services + Home > Graduate Admissions & Academic Services': 516,\n",
       "         'Home > Undergraduate Admissions & Financial Assistance': 753})"
      ]
     },
     "execution_count": 56,
     "metadata": {},
     "output_type": "execute_result"
    }
   ],
   "source": [
    "counter"
   ]
  },
  {
   "cell_type": "code",
   "execution_count": 57,
   "metadata": {},
   "outputs": [],
   "source": [
    "with open(\"../dataset/faqs/faq_ntu_prototype_v2.txt\", \"w\") as f:\n",
    "    for i in range(len(questions)):\n",
    "        f.writelines(categories_string[i]+\" \"+questions[i]+\"\\n\")\n"
   ]
  },
  {
   "cell_type": "code",
   "execution_count": 58,
   "metadata": {},
   "outputs": [
    {
     "data": {
      "text/plain": [
       "4"
      ]
     },
     "execution_count": 58,
     "metadata": {},
     "output_type": "execute_result"
    }
   ],
   "source": [
    "len(counter)"
   ]
  },
  {
   "cell_type": "code",
   "execution_count": 59,
   "metadata": {},
   "outputs": [],
   "source": [
    "for i in range(len(categories_string)):\n",
    "    tmp = categories_string[i]\n",
    "    tmp = \"<\".join(tmp.split(\" < \"))\n",
    "    tmp = \"+\".join(tmp.split(\" + \"))\n",
    "    tmp = \"-\".join(tmp.split(\" \"))\n",
    "    categories_string[i] = tmp\n"
   ]
  },
  {
   "cell_type": "code",
   "execution_count": 60,
   "metadata": {},
   "outputs": [],
   "source": [
    "counter = Counter(categories_string)"
   ]
  },
  {
   "cell_type": "code",
   "execution_count": 61,
   "metadata": {},
   "outputs": [
    {
     "data": {
      "text/plain": [
       "Counter({'Home->-Campus-Life+Home->-Exchange-&-Attachment+Home->-Career-&-Attachment+Home->-Financial-Services+Home->-Facility-Services+Home->-Alumni-Services+Home->-Donation': 608,\n",
       "         'Home->-Teaching-&-Learning+Home->-IT-Services+Home->-Library-Services': 762,\n",
       "         'Home->-Undergraduate-Academic-Services+Home->-Graduate-Admissions-&-Academic-Services': 516,\n",
       "         'Home->-Undergraduate-Admissions-&-Financial-Assistance': 753})"
      ]
     },
     "execution_count": 61,
     "metadata": {},
     "output_type": "execute_result"
    }
   ],
   "source": [
    "counter"
   ]
  },
  {
   "cell_type": "code",
   "execution_count": 62,
   "metadata": {},
   "outputs": [],
   "source": [
    "with open(\"../dataset/faqs/faq_ntu_prototype_v2.txt\", \"w\") as f:\n",
    "    for i in range(len(questions)):\n",
    "        f.writelines(categories_string[i]+\" \"+questions[i]+\"\\n\")"
   ]
  },
  {
   "cell_type": "code",
   "execution_count": null,
   "metadata": {},
   "outputs": [],
   "source": []
  }
 ],
 "metadata": {
  "kernelspec": {
   "display_name": "Python 3",
   "language": "python",
   "name": "python3"
  },
  "language_info": {
   "codemirror_mode": {
    "name": "ipython",
    "version": 3
   },
   "file_extension": ".py",
   "mimetype": "text/x-python",
   "name": "python",
   "nbconvert_exporter": "python",
   "pygments_lexer": "ipython3",
   "version": "3.5.2"
  }
 },
 "nbformat": 4,
 "nbformat_minor": 2
}
