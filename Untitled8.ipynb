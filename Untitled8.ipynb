{
 "cells": [
  {
   "cell_type": "code",
   "execution_count": 1,
   "metadata": {},
   "outputs": [],
   "source": [
    "from torchtext import data"
   ]
  },
  {
   "cell_type": "code",
   "execution_count": 2,
   "metadata": {},
   "outputs": [],
   "source": [
    "import pandas as pd\n",
    "import numpy as np\n",
    "import random"
   ]
  },
  {
   "cell_type": "code",
   "execution_count": 3,
   "metadata": {},
   "outputs": [],
   "source": [
    "df_1 = pd.DataFrame(columns = ['text', 'label'])"
   ]
  },
  {
   "cell_type": "code",
   "execution_count": 4,
   "metadata": {},
   "outputs": [],
   "source": [
    "df_1.text = np.array([\"hello hey\", \"hoyyy helll\"])"
   ]
  },
  {
   "cell_type": "code",
   "execution_count": 5,
   "metadata": {},
   "outputs": [],
   "source": [
    "df_1.label = np.array(['satu', 'dua'])"
   ]
  },
  {
   "cell_type": "code",
   "execution_count": 6,
   "metadata": {},
   "outputs": [
    {
     "data": {
      "text/html": [
       "<div>\n",
       "<style scoped>\n",
       "    .dataframe tbody tr th:only-of-type {\n",
       "        vertical-align: middle;\n",
       "    }\n",
       "\n",
       "    .dataframe tbody tr th {\n",
       "        vertical-align: top;\n",
       "    }\n",
       "\n",
       "    .dataframe thead th {\n",
       "        text-align: right;\n",
       "    }\n",
       "</style>\n",
       "<table border=\"1\" class=\"dataframe\">\n",
       "  <thead>\n",
       "    <tr style=\"text-align: right;\">\n",
       "      <th></th>\n",
       "      <th>text</th>\n",
       "      <th>label</th>\n",
       "    </tr>\n",
       "  </thead>\n",
       "  <tbody>\n",
       "    <tr>\n",
       "      <th>0</th>\n",
       "      <td>hello hey</td>\n",
       "      <td>satu</td>\n",
       "    </tr>\n",
       "    <tr>\n",
       "      <th>1</th>\n",
       "      <td>hoyyy helll</td>\n",
       "      <td>dua</td>\n",
       "    </tr>\n",
       "  </tbody>\n",
       "</table>\n",
       "</div>"
      ],
      "text/plain": [
       "          text label\n",
       "0    hello hey  satu\n",
       "1  hoyyy helll   dua"
      ]
     },
     "execution_count": 6,
     "metadata": {},
     "output_type": "execute_result"
    }
   ],
   "source": [
    "df_1"
   ]
  },
  {
   "cell_type": "code",
   "execution_count": 36,
   "metadata": {},
   "outputs": [],
   "source": [
    "df_1.to_csv(\"try.csv\", index=False, header=False)"
   ]
  },
  {
   "cell_type": "code",
   "execution_count": 37,
   "metadata": {},
   "outputs": [],
   "source": [
    "sentiment = data.TabularDataset(path='try.csv', format='csv',  fields=[(\"text\", data.Field(sequential=True)), ('label', data.Field(sequential=False))])"
   ]
  },
  {
   "cell_type": "code",
   "execution_count": 40,
   "metadata": {},
   "outputs": [
    {
     "data": {
      "text/plain": [
       "[<torchtext.data.example.Example at 0x7f567df57cf8>,\n",
       " <torchtext.data.example.Example at 0x7f567df57d68>]"
      ]
     },
     "execution_count": 40,
     "metadata": {},
     "output_type": "execute_result"
    }
   ],
   "source": [
    "sentiment.examples"
   ]
  },
  {
   "cell_type": "code",
   "execution_count": 7,
   "metadata": {},
   "outputs": [],
   "source": [
    "import codecs"
   ]
  },
  {
   "cell_type": "code",
   "execution_count": 8,
   "metadata": {},
   "outputs": [],
   "source": [
    "questions = []\n",
    "labels = []\n",
    "path = \"../dataset/faqs/faq_ntu_prototype_v6.txt\"\n",
    "with codecs.open(path,'r','utf8') as f:\n",
    "    for line in f:\n",
    "        tmp = line.split()\n",
    "        x = \" \".join(tmp[1:])\n",
    "        x = x.replace('\\n',' ')\n",
    "        questions.append(x)\n",
    "        y = tmp[0]\n",
    "        y = y.replace('\\n', ' ')\n",
    "        y = y.replace('-', ' ')\n",
    "        labels.append(y)\n"
   ]
  },
  {
   "cell_type": "code",
   "execution_count": 9,
   "metadata": {},
   "outputs": [],
   "source": [
    "questions = np.asarray(questions)"
   ]
  },
  {
   "cell_type": "code",
   "execution_count": 10,
   "metadata": {},
   "outputs": [],
   "source": [
    "labels = np.asarray(labels)"
   ]
  },
  {
   "cell_type": "code",
   "execution_count": 12,
   "metadata": {},
   "outputs": [],
   "source": [
    "np.random.seed(1)\n",
    "random.seed(1)"
   ]
  },
  {
   "cell_type": "code",
   "execution_count": 13,
   "metadata": {},
   "outputs": [],
   "source": [
    "df_faq = pd.DataFrame(columns=['text', 'label'])"
   ]
  },
  {
   "cell_type": "code",
   "execution_count": 14,
   "metadata": {},
   "outputs": [],
   "source": [
    "df_faq.text = questions"
   ]
  },
  {
   "cell_type": "code",
   "execution_count": 15,
   "metadata": {},
   "outputs": [],
   "source": [
    "df_faq.label = labels"
   ]
  },
  {
   "cell_type": "code",
   "execution_count": 16,
   "metadata": {},
   "outputs": [
    {
     "data": {
      "text/html": [
       "<div>\n",
       "<style scoped>\n",
       "    .dataframe tbody tr th:only-of-type {\n",
       "        vertical-align: middle;\n",
       "    }\n",
       "\n",
       "    .dataframe tbody tr th {\n",
       "        vertical-align: top;\n",
       "    }\n",
       "\n",
       "    .dataframe thead th {\n",
       "        text-align: right;\n",
       "    }\n",
       "</style>\n",
       "<table border=\"1\" class=\"dataframe\">\n",
       "  <thead>\n",
       "    <tr style=\"text-align: right;\">\n",
       "      <th></th>\n",
       "      <th>text</th>\n",
       "      <th>label</th>\n",
       "    </tr>\n",
       "  </thead>\n",
       "  <tbody>\n",
       "    <tr>\n",
       "      <th>0</th>\n",
       "      <td>Why are exam scripts not returned to us after ...</td>\n",
       "      <td>Academics</td>\n",
       "    </tr>\n",
       "    <tr>\n",
       "      <th>1</th>\n",
       "      <td>what is the bus schedule for internal shuttle ...</td>\n",
       "      <td>Campus Life &amp; Accommodation</td>\n",
       "    </tr>\n",
       "    <tr>\n",
       "      <th>2</th>\n",
       "      <td>Are mature age students eligible for admission...</td>\n",
       "      <td>Admission &amp; Financial Services</td>\n",
       "    </tr>\n",
       "    <tr>\n",
       "      <th>3</th>\n",
       "      <td>What are the acceptable diplomas for applicati...</td>\n",
       "      <td>Admission &amp; Financial Services</td>\n",
       "    </tr>\n",
       "    <tr>\n",
       "      <th>4</th>\n",
       "      <td>Why is my car being wheel-clamped?</td>\n",
       "      <td>Campus Life &amp; Accommodation</td>\n",
       "    </tr>\n",
       "    <tr>\n",
       "      <th>5</th>\n",
       "      <td>If i'm a ITE holder which don't have O level r...</td>\n",
       "      <td>Admission &amp; Financial Services</td>\n",
       "    </tr>\n",
       "    <tr>\n",
       "      <th>6</th>\n",
       "      <td>How do I make an NTU library catalogue search ...</td>\n",
       "      <td>Other Services</td>\n",
       "    </tr>\n",
       "    <tr>\n",
       "      <th>7</th>\n",
       "      <td>Is there any restriction on the programmes tha...</td>\n",
       "      <td>Admission &amp; Financial Services</td>\n",
       "    </tr>\n",
       "    <tr>\n",
       "      <th>8</th>\n",
       "      <td>How do I configure EndNote toolbar in MS Word ...</td>\n",
       "      <td>Other Services</td>\n",
       "    </tr>\n",
       "    <tr>\n",
       "      <th>9</th>\n",
       "      <td>NTU Library EZproxy Service</td>\n",
       "      <td>Other Services</td>\n",
       "    </tr>\n",
       "    <tr>\n",
       "      <th>10</th>\n",
       "      <td>Where can I get local cases and judgements for...</td>\n",
       "      <td>Other Services</td>\n",
       "    </tr>\n",
       "    <tr>\n",
       "      <th>11</th>\n",
       "      <td>My host university also requires me to purchas...</td>\n",
       "      <td>Outreach &amp; Exchange</td>\n",
       "    </tr>\n",
       "    <tr>\n",
       "      <th>12</th>\n",
       "      <td>What is a Rogue Access Point?</td>\n",
       "      <td>Other Services</td>\n",
       "    </tr>\n",
       "    <tr>\n",
       "      <th>13</th>\n",
       "      <td>I am a HSS student now. I want to transfer fro...</td>\n",
       "      <td>Admission &amp; Financial Services</td>\n",
       "    </tr>\n",
       "    <tr>\n",
       "      <th>14</th>\n",
       "      <td>Can I request for the Library to purchase book...</td>\n",
       "      <td>Other Services</td>\n",
       "    </tr>\n",
       "    <tr>\n",
       "      <th>15</th>\n",
       "      <td>Can I make advanced reservation for the cinema...</td>\n",
       "      <td>Other Services</td>\n",
       "    </tr>\n",
       "    <tr>\n",
       "      <th>16</th>\n",
       "      <td>What is direct honours?</td>\n",
       "      <td>Admission &amp; Financial Services</td>\n",
       "    </tr>\n",
       "    <tr>\n",
       "      <th>17</th>\n",
       "      <td>What items are included in my bill?</td>\n",
       "      <td>Admission &amp; Financial Services</td>\n",
       "    </tr>\n",
       "    <tr>\n",
       "      <th>18</th>\n",
       "      <td>Why does the university allocate points to a l...</td>\n",
       "      <td>Campus Life &amp; Accommodation</td>\n",
       "    </tr>\n",
       "    <tr>\n",
       "      <th>19</th>\n",
       "      <td>If there are changes in the class schedule dur...</td>\n",
       "      <td>Academics</td>\n",
       "    </tr>\n",
       "    <tr>\n",
       "      <th>20</th>\n",
       "      <td>Applying for PhD Programs while in the Final S...</td>\n",
       "      <td>Admission &amp; Financial Services</td>\n",
       "    </tr>\n",
       "    <tr>\n",
       "      <th>21</th>\n",
       "      <td>Can I export citations from Wanfang to EndNote?</td>\n",
       "      <td>Other Services</td>\n",
       "    </tr>\n",
       "    <tr>\n",
       "      <th>22</th>\n",
       "      <td>Qualifying English Test</td>\n",
       "      <td>Academics</td>\n",
       "    </tr>\n",
       "    <tr>\n",
       "      <th>23</th>\n",
       "      <td>What is the admission procedure to NTU?</td>\n",
       "      <td>Academics</td>\n",
       "    </tr>\n",
       "    <tr>\n",
       "      <th>24</th>\n",
       "      <td>How do I view the approval status of the cours...</td>\n",
       "      <td>Academics</td>\n",
       "    </tr>\n",
       "    <tr>\n",
       "      <th>25</th>\n",
       "      <td>Can I find computers in the library to use for...</td>\n",
       "      <td>Other Services</td>\n",
       "    </tr>\n",
       "    <tr>\n",
       "      <th>26</th>\n",
       "      <td>What should I do if I am required to attend NS...</td>\n",
       "      <td>Outreach &amp; Exchange</td>\n",
       "    </tr>\n",
       "    <tr>\n",
       "      <th>27</th>\n",
       "      <td>I want to select a partner university to go to...</td>\n",
       "      <td>Outreach &amp; Exchange</td>\n",
       "    </tr>\n",
       "    <tr>\n",
       "      <th>28</th>\n",
       "      <td>Can I select organisations not in my field of ...</td>\n",
       "      <td>Outreach &amp; Exchange</td>\n",
       "    </tr>\n",
       "    <tr>\n",
       "      <th>29</th>\n",
       "      <td>Can I loan out the DVDs at ADM Library?</td>\n",
       "      <td>Other Services</td>\n",
       "    </tr>\n",
       "    <tr>\n",
       "      <th>...</th>\n",
       "      <td>...</td>\n",
       "      <td>...</td>\n",
       "    </tr>\n",
       "    <tr>\n",
       "      <th>2480</th>\n",
       "      <td>\"Nobody can Ping my computer...\". Why is this so?</td>\n",
       "      <td>Other Services</td>\n",
       "    </tr>\n",
       "    <tr>\n",
       "      <th>2481</th>\n",
       "      <td>I have already submitted my thesis to my Super...</td>\n",
       "      <td>Academics</td>\n",
       "    </tr>\n",
       "    <tr>\n",
       "      <th>2482</th>\n",
       "      <td>Are the curriculum structure and AU load for G...</td>\n",
       "      <td>Academics</td>\n",
       "    </tr>\n",
       "    <tr>\n",
       "      <th>2483</th>\n",
       "      <td>Who can I report to concerning a suspicious ac...</td>\n",
       "      <td>Campus Life &amp; Accommodation</td>\n",
       "    </tr>\n",
       "    <tr>\n",
       "      <th>2484</th>\n",
       "      <td>What are the admission requirements for NIE pr...</td>\n",
       "      <td>Admission &amp; Financial Services</td>\n",
       "    </tr>\n",
       "    <tr>\n",
       "      <th>2485</th>\n",
       "      <td>I am an overseas exchange student. Do I need t...</td>\n",
       "      <td>Other Services</td>\n",
       "    </tr>\n",
       "    <tr>\n",
       "      <th>2486</th>\n",
       "      <td>I am unable to use my matriculation card to bo...</td>\n",
       "      <td>Academics</td>\n",
       "    </tr>\n",
       "    <tr>\n",
       "      <th>2487</th>\n",
       "      <td>Where to see my CGPA?</td>\n",
       "      <td>Academics</td>\n",
       "    </tr>\n",
       "    <tr>\n",
       "      <th>2488</th>\n",
       "      <td>Do I have to pay for using the campus computers?</td>\n",
       "      <td>Other Services</td>\n",
       "    </tr>\n",
       "    <tr>\n",
       "      <th>2489</th>\n",
       "      <td>Reservation of place</td>\n",
       "      <td>Admission &amp; Financial Services</td>\n",
       "    </tr>\n",
       "    <tr>\n",
       "      <th>2490</th>\n",
       "      <td>I have taken my GCE 'O' Level twice, can I sub...</td>\n",
       "      <td>Admission &amp; Financial Services</td>\n",
       "    </tr>\n",
       "    <tr>\n",
       "      <th>2491</th>\n",
       "      <td>Is it an advantage to have studied Economics a...</td>\n",
       "      <td>Admission &amp; Financial Services</td>\n",
       "    </tr>\n",
       "    <tr>\n",
       "      <th>2492</th>\n",
       "      <td>What are the changes in the process for the Ad...</td>\n",
       "      <td>Academics</td>\n",
       "    </tr>\n",
       "    <tr>\n",
       "      <th>2493</th>\n",
       "      <td>What is SurveyMail?</td>\n",
       "      <td>Other Services</td>\n",
       "    </tr>\n",
       "    <tr>\n",
       "      <th>2494</th>\n",
       "      <td>Map, Virtual Tour and How to Get to NTU</td>\n",
       "      <td>Other Services</td>\n",
       "    </tr>\n",
       "    <tr>\n",
       "      <th>2495</th>\n",
       "      <td>I have set my computer to \"Obtain an IP addres...</td>\n",
       "      <td>Other Services</td>\n",
       "    </tr>\n",
       "    <tr>\n",
       "      <th>2496</th>\n",
       "      <td>What are the rules for using Library PCs? What...</td>\n",
       "      <td>Other Services</td>\n",
       "    </tr>\n",
       "    <tr>\n",
       "      <th>2497</th>\n",
       "      <td>How can a visiting professor or research fello...</td>\n",
       "      <td>Other Services</td>\n",
       "    </tr>\n",
       "    <tr>\n",
       "      <th>2498</th>\n",
       "      <td>Are there any specific subjects that I need?</td>\n",
       "      <td>Admission &amp; Financial Services</td>\n",
       "    </tr>\n",
       "    <tr>\n",
       "      <th>2499</th>\n",
       "      <td>Is it possible to transfer to the full-time un...</td>\n",
       "      <td>Admission &amp; Financial Services</td>\n",
       "    </tr>\n",
       "    <tr>\n",
       "      <th>2500</th>\n",
       "      <td>Is it possible to access the section for Discr...</td>\n",
       "      <td>Admission &amp; Financial Services</td>\n",
       "    </tr>\n",
       "    <tr>\n",
       "      <th>2501</th>\n",
       "      <td>What are the operating hours of the copy room ...</td>\n",
       "      <td>Other Services</td>\n",
       "    </tr>\n",
       "    <tr>\n",
       "      <th>2502</th>\n",
       "      <td>Am I entitled to vacation leave during EIA?</td>\n",
       "      <td>Outreach &amp; Exchange</td>\n",
       "    </tr>\n",
       "    <tr>\n",
       "      <th>2503</th>\n",
       "      <td>What are A-type materials in Art, Design &amp; Med...</td>\n",
       "      <td>Other Services</td>\n",
       "    </tr>\n",
       "    <tr>\n",
       "      <th>2504</th>\n",
       "      <td>Are air-conditioned rooms available in the und...</td>\n",
       "      <td>Campus Life &amp; Accommodation</td>\n",
       "    </tr>\n",
       "    <tr>\n",
       "      <th>2505</th>\n",
       "      <td>Can I report to the Police concerning any crim...</td>\n",
       "      <td>Campus Life &amp; Accommodation</td>\n",
       "    </tr>\n",
       "    <tr>\n",
       "      <th>2506</th>\n",
       "      <td>Can you tell me how well recognised is the BEn...</td>\n",
       "      <td>Admission &amp; Financial Services</td>\n",
       "    </tr>\n",
       "    <tr>\n",
       "      <th>2507</th>\n",
       "      <td>I'm an ex-research staff of an NTU affiliated ...</td>\n",
       "      <td>Other Services</td>\n",
       "    </tr>\n",
       "    <tr>\n",
       "      <th>2508</th>\n",
       "      <td>Is there a cap on the number of international ...</td>\n",
       "      <td>Admission &amp; Financial Services</td>\n",
       "    </tr>\n",
       "    <tr>\n",
       "      <th>2509</th>\n",
       "      <td>I am a Masters student at NTU. Can I apply for...</td>\n",
       "      <td>Outreach &amp; Exchange</td>\n",
       "    </tr>\n",
       "  </tbody>\n",
       "</table>\n",
       "<p>2510 rows × 2 columns</p>\n",
       "</div>"
      ],
      "text/plain": [
       "                                                   text  \\\n",
       "0     Why are exam scripts not returned to us after ...   \n",
       "1     what is the bus schedule for internal shuttle ...   \n",
       "2     Are mature age students eligible for admission...   \n",
       "3     What are the acceptable diplomas for applicati...   \n",
       "4                    Why is my car being wheel-clamped?   \n",
       "5     If i'm a ITE holder which don't have O level r...   \n",
       "6     How do I make an NTU library catalogue search ...   \n",
       "7     Is there any restriction on the programmes tha...   \n",
       "8     How do I configure EndNote toolbar in MS Word ...   \n",
       "9                           NTU Library EZproxy Service   \n",
       "10    Where can I get local cases and judgements for...   \n",
       "11    My host university also requires me to purchas...   \n",
       "12                        What is a Rogue Access Point?   \n",
       "13    I am a HSS student now. I want to transfer fro...   \n",
       "14    Can I request for the Library to purchase book...   \n",
       "15    Can I make advanced reservation for the cinema...   \n",
       "16                              What is direct honours?   \n",
       "17                  What items are included in my bill?   \n",
       "18    Why does the university allocate points to a l...   \n",
       "19    If there are changes in the class schedule dur...   \n",
       "20    Applying for PhD Programs while in the Final S...   \n",
       "21      Can I export citations from Wanfang to EndNote?   \n",
       "22                              Qualifying English Test   \n",
       "23              What is the admission procedure to NTU?   \n",
       "24    How do I view the approval status of the cours...   \n",
       "25    Can I find computers in the library to use for...   \n",
       "26    What should I do if I am required to attend NS...   \n",
       "27    I want to select a partner university to go to...   \n",
       "28    Can I select organisations not in my field of ...   \n",
       "29              Can I loan out the DVDs at ADM Library?   \n",
       "...                                                 ...   \n",
       "2480  \"Nobody can Ping my computer...\". Why is this so?   \n",
       "2481  I have already submitted my thesis to my Super...   \n",
       "2482  Are the curriculum structure and AU load for G...   \n",
       "2483  Who can I report to concerning a suspicious ac...   \n",
       "2484  What are the admission requirements for NIE pr...   \n",
       "2485  I am an overseas exchange student. Do I need t...   \n",
       "2486  I am unable to use my matriculation card to bo...   \n",
       "2487                              Where to see my CGPA?   \n",
       "2488   Do I have to pay for using the campus computers?   \n",
       "2489                               Reservation of place   \n",
       "2490  I have taken my GCE 'O' Level twice, can I sub...   \n",
       "2491  Is it an advantage to have studied Economics a...   \n",
       "2492  What are the changes in the process for the Ad...   \n",
       "2493                                What is SurveyMail?   \n",
       "2494            Map, Virtual Tour and How to Get to NTU   \n",
       "2495  I have set my computer to \"Obtain an IP addres...   \n",
       "2496  What are the rules for using Library PCs? What...   \n",
       "2497  How can a visiting professor or research fello...   \n",
       "2498       Are there any specific subjects that I need?   \n",
       "2499  Is it possible to transfer to the full-time un...   \n",
       "2500  Is it possible to access the section for Discr...   \n",
       "2501  What are the operating hours of the copy room ...   \n",
       "2502        Am I entitled to vacation leave during EIA?   \n",
       "2503  What are A-type materials in Art, Design & Med...   \n",
       "2504  Are air-conditioned rooms available in the und...   \n",
       "2505  Can I report to the Police concerning any crim...   \n",
       "2506  Can you tell me how well recognised is the BEn...   \n",
       "2507  I'm an ex-research staff of an NTU affiliated ...   \n",
       "2508  Is there a cap on the number of international ...   \n",
       "2509  I am a Masters student at NTU. Can I apply for...   \n",
       "\n",
       "                               label  \n",
       "0                          Academics  \n",
       "1        Campus Life & Accommodation  \n",
       "2     Admission & Financial Services  \n",
       "3     Admission & Financial Services  \n",
       "4        Campus Life & Accommodation  \n",
       "5     Admission & Financial Services  \n",
       "6                     Other Services  \n",
       "7     Admission & Financial Services  \n",
       "8                     Other Services  \n",
       "9                     Other Services  \n",
       "10                    Other Services  \n",
       "11               Outreach & Exchange  \n",
       "12                    Other Services  \n",
       "13    Admission & Financial Services  \n",
       "14                    Other Services  \n",
       "15                    Other Services  \n",
       "16    Admission & Financial Services  \n",
       "17    Admission & Financial Services  \n",
       "18       Campus Life & Accommodation  \n",
       "19                         Academics  \n",
       "20    Admission & Financial Services  \n",
       "21                    Other Services  \n",
       "22                         Academics  \n",
       "23                         Academics  \n",
       "24                         Academics  \n",
       "25                    Other Services  \n",
       "26               Outreach & Exchange  \n",
       "27               Outreach & Exchange  \n",
       "28               Outreach & Exchange  \n",
       "29                    Other Services  \n",
       "...                              ...  \n",
       "2480                  Other Services  \n",
       "2481                       Academics  \n",
       "2482                       Academics  \n",
       "2483     Campus Life & Accommodation  \n",
       "2484  Admission & Financial Services  \n",
       "2485                  Other Services  \n",
       "2486                       Academics  \n",
       "2487                       Academics  \n",
       "2488                  Other Services  \n",
       "2489  Admission & Financial Services  \n",
       "2490  Admission & Financial Services  \n",
       "2491  Admission & Financial Services  \n",
       "2492                       Academics  \n",
       "2493                  Other Services  \n",
       "2494                  Other Services  \n",
       "2495                  Other Services  \n",
       "2496                  Other Services  \n",
       "2497                  Other Services  \n",
       "2498  Admission & Financial Services  \n",
       "2499  Admission & Financial Services  \n",
       "2500  Admission & Financial Services  \n",
       "2501                  Other Services  \n",
       "2502             Outreach & Exchange  \n",
       "2503                  Other Services  \n",
       "2504     Campus Life & Accommodation  \n",
       "2505     Campus Life & Accommodation  \n",
       "2506  Admission & Financial Services  \n",
       "2507                  Other Services  \n",
       "2508  Admission & Financial Services  \n",
       "2509             Outreach & Exchange  \n",
       "\n",
       "[2510 rows x 2 columns]"
      ]
     },
     "execution_count": 16,
     "metadata": {},
     "output_type": "execute_result"
    }
   ],
   "source": [
    "df_faq"
   ]
  },
  {
   "cell_type": "code",
   "execution_count": 38,
   "metadata": {},
   "outputs": [],
   "source": [
    "length = len(df_faq)"
   ]
  },
  {
   "cell_type": "code",
   "execution_count": 39,
   "metadata": {},
   "outputs": [],
   "source": [
    "shuffled = [i for i in range(length)]"
   ]
  },
  {
   "cell_type": "code",
   "execution_count": 40,
   "metadata": {},
   "outputs": [],
   "source": [
    "np.random.seed(1)\n",
    "random.seed(1)"
   ]
  },
  {
   "cell_type": "code",
   "execution_count": 41,
   "metadata": {},
   "outputs": [],
   "source": [
    "np.random.shuffle(shuffled)"
   ]
  },
  {
   "cell_type": "code",
   "execution_count": 42,
   "metadata": {},
   "outputs": [],
   "source": [
    "test_length = -1*int(0.1*float(len(shuffled)))"
   ]
  },
  {
   "cell_type": "code",
   "execution_count": 43,
   "metadata": {},
   "outputs": [],
   "source": [
    "df_1, df_2  = df_faq.iloc[shuffled[:test_length]], df_faq.iloc[shuffled[test_length:]]"
   ]
  },
  {
   "cell_type": "code",
   "execution_count": 45,
   "metadata": {},
   "outputs": [
    {
     "data": {
      "text/html": [
       "<div>\n",
       "<style scoped>\n",
       "    .dataframe tbody tr th:only-of-type {\n",
       "        vertical-align: middle;\n",
       "    }\n",
       "\n",
       "    .dataframe tbody tr th {\n",
       "        vertical-align: top;\n",
       "    }\n",
       "\n",
       "    .dataframe thead th {\n",
       "        text-align: right;\n",
       "    }\n",
       "</style>\n",
       "<table border=\"1\" class=\"dataframe\">\n",
       "  <thead>\n",
       "    <tr style=\"text-align: right;\">\n",
       "      <th></th>\n",
       "      <th>text</th>\n",
       "      <th>label</th>\n",
       "    </tr>\n",
       "  </thead>\n",
       "  <tbody>\n",
       "    <tr>\n",
       "      <th>806</th>\n",
       "      <td>Computer Lab / Free Access Lab</td>\n",
       "      <td>Other Services</td>\n",
       "    </tr>\n",
       "    <tr>\n",
       "      <th>882</th>\n",
       "      <td>How many intakes are there for part-time in El...</td>\n",
       "      <td>Admission &amp; Financial Services</td>\n",
       "    </tr>\n",
       "    <tr>\n",
       "      <th>1484</th>\n",
       "      <td>Where can I return ADM Library books?</td>\n",
       "      <td>Other Services</td>\n",
       "    </tr>\n",
       "    <tr>\n",
       "      <th>637</th>\n",
       "      <td>Can I apply for exchange programme in semester...</td>\n",
       "      <td>Academics</td>\n",
       "    </tr>\n",
       "    <tr>\n",
       "      <th>423</th>\n",
       "      <td>What is an Accelerated Bachelor Programme?</td>\n",
       "      <td>Academics</td>\n",
       "    </tr>\n",
       "    <tr>\n",
       "      <th>727</th>\n",
       "      <td>is the hall accomodation alloted for all the 4...</td>\n",
       "      <td>Campus Life &amp; Accommodation</td>\n",
       "    </tr>\n",
       "    <tr>\n",
       "      <th>1996</th>\n",
       "      <td>How can I request for floor plans of my school?</td>\n",
       "      <td>Campus Life &amp; Accommodation</td>\n",
       "    </tr>\n",
       "    <tr>\n",
       "      <th>376</th>\n",
       "      <td>I have just submitted my ringbound thesis to m...</td>\n",
       "      <td>Academics</td>\n",
       "    </tr>\n",
       "    <tr>\n",
       "      <th>524</th>\n",
       "      <td>Is it possible to switch halls after a semester?</td>\n",
       "      <td>Campus Life &amp; Accommodation</td>\n",
       "    </tr>\n",
       "    <tr>\n",
       "      <th>150</th>\n",
       "      <td>What should I do if my passport is expiring so...</td>\n",
       "      <td>Outreach &amp; Exchange</td>\n",
       "    </tr>\n",
       "  </tbody>\n",
       "</table>\n",
       "</div>"
      ],
      "text/plain": [
       "                                                   text  \\\n",
       "806                      Computer Lab / Free Access Lab   \n",
       "882   How many intakes are there for part-time in El...   \n",
       "1484              Where can I return ADM Library books?   \n",
       "637   Can I apply for exchange programme in semester...   \n",
       "423          What is an Accelerated Bachelor Programme?   \n",
       "727   is the hall accomodation alloted for all the 4...   \n",
       "1996    How can I request for floor plans of my school?   \n",
       "376   I have just submitted my ringbound thesis to m...   \n",
       "524    Is it possible to switch halls after a semester?   \n",
       "150   What should I do if my passport is expiring so...   \n",
       "\n",
       "                               label  \n",
       "806                   Other Services  \n",
       "882   Admission & Financial Services  \n",
       "1484                  Other Services  \n",
       "637                        Academics  \n",
       "423                        Academics  \n",
       "727      Campus Life & Accommodation  \n",
       "1996     Campus Life & Accommodation  \n",
       "376                        Academics  \n",
       "524      Campus Life & Accommodation  \n",
       "150              Outreach & Exchange  "
      ]
     },
     "execution_count": 45,
     "metadata": {},
     "output_type": "execute_result"
    }
   ],
   "source": [
    "df_2.head(10)"
   ]
  },
  {
   "cell_type": "code",
   "execution_count": 46,
   "metadata": {},
   "outputs": [],
   "source": [
    "df_1.to_csv(\"../dataset/faqs/faq_ntu_prototype_v6_train.csv\", index=False)"
   ]
  },
  {
   "cell_type": "code",
   "execution_count": 47,
   "metadata": {},
   "outputs": [],
   "source": [
    "df_2.to_csv(\"../dataset/faqs/faq_ntu_prototype_v6_dev.csv\", index=False)"
   ]
  },
  {
   "cell_type": "code",
   "execution_count": 71,
   "metadata": {},
   "outputs": [],
   "source": [
    "sentiment = data.TabularDataset(path=\"../dataset/faqs/faq_ntu_prototype_v6.csv\", format='csv', skip_header=True, fields=[(\"text\", data.Field(sequential=True)), ('label', data.Field(sequential=False))])"
   ]
  },
  {
   "cell_type": "code",
   "execution_count": 77,
   "metadata": {},
   "outputs": [],
   "source": [
    "del sentiment"
   ]
  },
  {
   "cell_type": "code",
   "execution_count": 1,
   "metadata": {},
   "outputs": [],
   "source": [
    "import torch"
   ]
  },
  {
   "cell_type": "code",
   "execution_count": 5,
   "metadata": {},
   "outputs": [],
   "source": [
    "model = torch.load(\"runs/refactor_Tue_13_Mar_2018_13_49/best_model/faq_best_model.model\", map_location=lambda storage, loc: storage)"
   ]
  },
  {
   "cell_type": "code",
   "execution_count": 6,
   "metadata": {},
   "outputs": [
    {
     "data": {
      "text/plain": [
       "QRNNClassifier(\n",
       "  (word_embeddings): Embedding(3027, 300)\n",
       "  (qrnn): QRNN(\n",
       "    (layers): ModuleList(\n",
       "      (0): QRNNLayer(\n",
       "        (linear): Linear(in_features=600, out_features=768)\n",
       "      )\n",
       "    )\n",
       "  )\n",
       "  (dropout): Dropout(p=0.5)\n",
       "  (hidden_to_label): Linear(in_features=256, out_features=5)\n",
       ")"
      ]
     },
     "execution_count": 6,
     "metadata": {},
     "output_type": "execute_result"
    }
   ],
   "source": [
    "model.eval()"
   ]
  },
  {
   "cell_type": "code",
   "execution_count": 10,
   "metadata": {},
   "outputs": [
    {
     "data": {
      "text/plain": [
       "True"
      ]
     },
     "execution_count": 10,
     "metadata": {},
     "output_type": "execute_result"
    }
   ],
   "source": [
    "model.qrnn.layers[0].use_cuda"
   ]
  },
  {
   "cell_type": "code",
   "execution_count": 2,
   "metadata": {},
   "outputs": [],
   "source": [
    "import dill as pickle"
   ]
  },
  {
   "cell_type": "code",
   "execution_count": 3,
   "metadata": {},
   "outputs": [],
   "source": [
    "text_field = pickle.load(open(\"text_vocab.pkl\", \"rb\"))"
   ]
  },
  {
   "cell_type": "code",
   "execution_count": 4,
   "metadata": {},
   "outputs": [
    {
     "data": {
      "text/plain": [
       "<torchtext.vocab.Vocab at 0x7f401d657518>"
      ]
     },
     "execution_count": 4,
     "metadata": {},
     "output_type": "execute_result"
    }
   ],
   "source": [
    "text_field.vocab"
   ]
  },
  {
   "cell_type": "code",
   "execution_count": 3,
   "metadata": {},
   "outputs": [],
   "source": [
    "dt = pd.read_csv(\"../dataset/faqs/faq_ntu_prototype_v6_train.csv\")"
   ]
  },
  {
   "cell_type": "code",
   "execution_count": 6,
   "metadata": {},
   "outputs": [
    {
     "data": {
      "text/plain": [
       "Admission & Financial Services    749\n",
       "Other Services                    667\n",
       "Academics                         328\n",
       "Campus Life & Accommodation       264\n",
       "Outreach & Exchange               251\n",
       "Name: label, dtype: int64"
      ]
     },
     "execution_count": 6,
     "metadata": {},
     "output_type": "execute_result"
    }
   ],
   "source": [
    "dt['label'].value_counts()"
   ]
  },
  {
   "cell_type": "code",
   "execution_count": null,
   "metadata": {},
   "outputs": [],
   "source": []
  }
 ],
 "metadata": {
  "kernelspec": {
   "display_name": "Python 3",
   "language": "python",
   "name": "python3"
  },
  "language_info": {
   "codemirror_mode": {
    "name": "ipython",
    "version": 3
   },
   "file_extension": ".py",
   "mimetype": "text/x-python",
   "name": "python",
   "nbconvert_exporter": "python",
   "pygments_lexer": "ipython3",
   "version": "3.5.2"
  }
 },
 "nbformat": 4,
 "nbformat_minor": 2
}
