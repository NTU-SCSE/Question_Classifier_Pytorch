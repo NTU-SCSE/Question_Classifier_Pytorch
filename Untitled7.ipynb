{
 "cells": [
  {
   "cell_type": "code",
   "execution_count": 1,
   "metadata": {},
   "outputs": [],
   "source": [
    "import json\n",
    "from collections import Counter"
   ]
  },
  {
   "cell_type": "code",
   "execution_count": 2,
   "metadata": {},
   "outputs": [],
   "source": [
    "faq_json = None\n",
    "with open(\"../dataset/faqs/questions_and_answers_ntu_original.json\", \"r\") as f:\n",
    "    faq_json = json.load(f)"
   ]
  },
  {
   "cell_type": "code",
   "execution_count": 3,
   "metadata": {},
   "outputs": [],
   "source": [
    "questions = []\n",
    "categories = []\n",
    "for _, obj in faq_json.items():\n",
    "    if obj['category'] == 'Home' or obj['category'] == 'Home > Graduate Admissions & Academic Services > Overview':\n",
    "        continue\n",
    "    questions.append(obj['question'])\n",
    "    categories.append(obj['category'])"
   ]
  },
  {
   "cell_type": "code",
   "execution_count": 4,
   "metadata": {},
   "outputs": [
    {
     "data": {
      "text/plain": [
       "2510"
      ]
     },
     "execution_count": 4,
     "metadata": {},
     "output_type": "execute_result"
    }
   ],
   "source": [
    "len(categories)"
   ]
  },
  {
   "cell_type": "code",
   "execution_count": 5,
   "metadata": {},
   "outputs": [],
   "source": [
    "categories_menu_list = [[menu.strip() for menu in label.split('>')] for label in categories]"
   ]
  },
  {
   "cell_type": "code",
   "execution_count": 6,
   "metadata": {},
   "outputs": [],
   "source": [
    "def reduceLabel(categories_menu_list, max_len):\n",
    "    num_data = len(questions)\n",
    "    new_categories = []\n",
    "    \n",
    "    for i in range(num_data):\n",
    "        tmp = categories_menu_list[i]\n",
    "        if len(categories_menu_list[i]) > max_len:\n",
    "            tmp = tmp[:max_len]\n",
    "        tmp = \" > \".join(tmp)\n",
    "        \n",
    "        new_categories.append(tmp)\n",
    "    \n",
    "    return new_categories"
   ]
  },
  {
   "cell_type": "code",
   "execution_count": 7,
   "metadata": {},
   "outputs": [],
   "source": [
    "categories_string = reduceLabel(categories_menu_list, 3)"
   ]
  },
  {
   "cell_type": "code",
   "execution_count": 8,
   "metadata": {},
   "outputs": [
    {
     "data": {
      "text/plain": [
       "Counter({'Home > Alumni Services': 4,\n",
       "         'Home > Alumni Services > Academic services': 3,\n",
       "         'Home > Alumni Services > Alumni Associations / Clubs': 2,\n",
       "         'Home > Alumni Services > Electronic services': 7,\n",
       "         'Home > Campus Life > General': 7,\n",
       "         \"Home > Campus Life > Graduate Students' Accommodation\": 2,\n",
       "         'Home > Campus Life > Hall Admission Scheme': 64,\n",
       "         'Home > Campus Life > Hall Living': 61,\n",
       "         'Home > Campus Life > Off-campus Accommodation': 4,\n",
       "         'Home > Campus Life > Other departments': 11,\n",
       "         'Home > Campus Life > Short Term Accommodation': 1,\n",
       "         'Home > Campus Life > Sports & Recreation': 23,\n",
       "         'Home > Campus Life > Student Activities': 13,\n",
       "         'Home > Campus Life > Support Services': 7,\n",
       "         \"Home > Campus Life > Undergraduate Students' Accommodation\": 57,\n",
       "         'Home > Career & Attachment > Big 4 Joint Recruitment': 9,\n",
       "         'Home > Career & Attachment > Corporate': 5,\n",
       "         'Home > Career & Attachment > EIA': 6,\n",
       "         'Home > Career & Attachment > IA': 23,\n",
       "         'Home > Career & Attachment > IO': 10,\n",
       "         'Home > Career & Attachment > Professional Attachment - Semester 1&2': 14,\n",
       "         'Home > Career & Attachment > Professional Internship': 7,\n",
       "         'Home > Donation > General': 1,\n",
       "         'Home > Donation > Giving To NTU': 12,\n",
       "         'Home > Exchange & Attachment > Inbound': 34,\n",
       "         'Home > Exchange & Attachment > Outbound': 140,\n",
       "         'Home > Facility Services > Building & Infrastructure': 7,\n",
       "         'Home > Facility Services > Campus Traffic Enforcement': 6,\n",
       "         'Home > Facility Services > Car Park Facility': 4,\n",
       "         'Home > Facility Services > Events Support': 1,\n",
       "         'Home > Facility Services > External Areas': 8,\n",
       "         'Home > Facility Services > Leases': 2,\n",
       "         'Home > Facility Services > Security Services': 9,\n",
       "         'Home > Financial Services > Procurement & Insurance': 17,\n",
       "         'Home > Financial Services > Student Services': 27,\n",
       "         'Home > Graduate Admissions & Academic Services > Admission (Coursework)': 19,\n",
       "         'Home > Graduate Admissions & Academic Services > Admission (Research)': 24,\n",
       "         'Home > Graduate Admissions & Academic Services > Conferment of Degree (Research)': 2,\n",
       "         'Home > Graduate Admissions & Academic Services > Conversion/Extension of Candidature (Research)': 1,\n",
       "         'Home > Graduate Admissions & Academic Services > Course Registration': 25,\n",
       "         'Home > Graduate Admissions & Academic Services > Degree Candidature (Coursework)': 6,\n",
       "         'Home > Graduate Admissions & Academic Services > Examination': 24,\n",
       "         'Home > Graduate Admissions & Academic Services > Leave of Absence (Research)': 1,\n",
       "         'Home > Graduate Admissions & Academic Services > Thesis Matters': 5,\n",
       "         'Home > Graduate Admissions & Academic Services > Withdrawal/Termination of Candidature (Research)': 1,\n",
       "         'Home > IT Services': 2,\n",
       "         'Home > IT Services > Account & Password': 43,\n",
       "         'Home > IT Services > Campus Computing Facilities': 12,\n",
       "         'Home > IT Services > Computer Ownership Scheme': 9,\n",
       "         'Home > IT Services > Computer Software': 114,\n",
       "         'Home > IT Services > Email & Mailing List': 78,\n",
       "         'Home > IT Services > MySite & Department Teamsite': 3,\n",
       "         'Home > IT Services > Network & Connectivity': 70,\n",
       "         'Home > IT Services > Printing / Scanning / Faxing': 17,\n",
       "         'Home > IT Services > Security & Regulations': 9,\n",
       "         'Home > Library Services > Collections & Access': 47,\n",
       "         'Home > Library Services > Copyright Issues': 17,\n",
       "         'Home > Library Services > Digital Repository': 13,\n",
       "         'Home > Library Services > Donations & Gifts': 2,\n",
       "         'Home > Library Services > EndNote': 35,\n",
       "         'Home > Library Services > Exam Papers': 6,\n",
       "         'Home > Library Services > Facilities': 98,\n",
       "         'Home > Library Services > Instructional Services': 4,\n",
       "         'Home > Library Services > Interlibrary Loans & Document Delivery': 8,\n",
       "         'Home > Library Services > Library Catalogue': 7,\n",
       "         'Home > Library Services > Library Tools': 11,\n",
       "         'Home > Library Services > Loan Services': 25,\n",
       "         'Home > Library Services > Membership': 35,\n",
       "         'Home > Library Services > Open Access at NTU': 23,\n",
       "         'Home > Library Services > Orientation, Tours & Exhibitions': 4,\n",
       "         'Home > Library Services > Others': 9,\n",
       "         'Home > Library Services > Reference Questions': 27,\n",
       "         'Home > Library Services > Research Assistance': 8,\n",
       "         'Home > Library Services > Reserves': 5,\n",
       "         'Home > Library Services > Security & Personal Belongings': 2,\n",
       "         'Home > Teaching & Learning > About NTULearn and Related Learning Services': 4,\n",
       "         'Home > Teaching & Learning > Design & Media Services': 15,\n",
       "         'Home > Undergraduate Academic Services > Attachment Programme': 4,\n",
       "         'Home > Undergraduate Academic Services > Certification Letter': 1,\n",
       "         'Home > Undergraduate Academic Services > Change of Programme': 7,\n",
       "         'Home > Undergraduate Academic Services > Convocation': 11,\n",
       "         'Home > Undergraduate Academic Services > Degree Certificate': 4,\n",
       "         'Home > Undergraduate Academic Services > Examination': 56,\n",
       "         'Home > Undergraduate Academic Services > Exchange Students': 34,\n",
       "         'Home > Undergraduate Academic Services > Leave of Absence': 7,\n",
       "         'Home > Undergraduate Academic Services > Matriculation': 14,\n",
       "         'Home > Undergraduate Academic Services > Medals & Prizes': 1,\n",
       "         'Home > Undergraduate Academic Services > Other Matters': 10,\n",
       "         'Home > Undergraduate Academic Services > Qualifying English Test': 6,\n",
       "         'Home > Undergraduate Academic Services > Registration': 118,\n",
       "         'Home > Undergraduate Academic Services > Streaming': 1,\n",
       "         'Home > Undergraduate Academic Services > Tuition Grant': 2,\n",
       "         'Home > Undergraduate Academic Services > Withdrawal from University': 3,\n",
       "         'Home > Undergraduate Admissions & Financial Assistance > Accommodation': 11,\n",
       "         'Home > Undergraduate Admissions & Financial Assistance > Discretionary Admissions (DA)': 19,\n",
       "         'Home > Undergraduate Admissions & Financial Assistance > Generic Questions': 131,\n",
       "         'Home > Undergraduate Admissions & Financial Assistance > International Admissions (Category D)': 85,\n",
       "         'Home > Undergraduate Admissions & Financial Assistance > International Baccalaureate (IB) Diploma': 13,\n",
       "         'Home > Undergraduate Admissions & Financial Assistance > Local Admissions': 111,\n",
       "         'Home > Undergraduate Admissions & Financial Assistance > Medical School': 40,\n",
       "         'Home > Undergraduate Admissions & Financial Assistance > NUS High School Diploma': 14,\n",
       "         'Home > Undergraduate Admissions & Financial Assistance > Premier Scholars Programmes': 5,\n",
       "         'Home > Undergraduate Admissions & Financial Assistance > Scholarship': 35,\n",
       "         'Home > Undergraduate Admissions & Financial Assistance > Specific Programme Questions': 289})"
      ]
     },
     "execution_count": 8,
     "metadata": {},
     "output_type": "execute_result"
    }
   ],
   "source": [
    "counter = Counter(categories_string)\n",
    "counter"
   ]
  },
  {
   "cell_type": "code",
   "execution_count": 9,
   "metadata": {},
   "outputs": [
    {
     "name": "stdout",
     "output_type": "stream",
     "text": [
      "Are mature age students eligible for admission into the double degree in Biomedical Sciences and Chinese Medicine programme?\n",
      "I am a HSS student now. I want to transfer from HSS to NBS next year, which procedures do I need to do?\n",
      "I am a JC student. Can I obtain exemptions for any Year 1 courses in the SBS Biological Sciences programme if I have taken a similar course at A level?\n",
      "How is the Chinese Major at NTU (Humanities and Social Sciences) different?\n",
      "Does Biomedicine course available in NTU?\n",
      "Is the Business programme accredited by any professional bodies?\n",
      "Can I go on to higher studies at postgraduate levels under SADM?\n",
      "I have only an A for mathematics C, B for biology and chemistry and C for physics (or some other grades). What are my chances of getting into SBS Biological Sciences?\n",
      "What is the main difference between the materials courses offered by NTU and other universities?\n",
      "Can a student take up Materials Engineering course after completing a year in another engineering course?\n",
      "Are the entry requirements for Bioengineering higher than for other disciplines?\n",
      "I have the following qualifications. Which programmes can I apply for?\n",
      "Can first-year engineering students specialise in aerospace engineering in their second year?\n",
      "Are interviews conducted as part of the admission process for Accountancy students?\n",
      "I am a polytechnic student. How do I notify the school if I want to be considered for direct entry into year 2 of the SBS Biological Sciences programme?\n",
      "To join engineering degree\n",
      "Can I practice as a qualified TCM practitioner in Singapore upon graduation from the double degree in Biomedical Sciences and Chinese Medicine programme?\n",
      "What are the cut-offs for the SBS Biological Sciences programme?\n",
      "Is Professional Attachment or Internship compulsory for Double Degree (Acc & Bus) students? What companies will I be attached to?\n",
      "What can I do with a degree in Chinese(Humanities and Social Sciences)?\n",
      "What are the graduate programmes offered by the School of Biological Sciences?\n",
      "What are the entry requirements for the NIE programmes?\n",
      "Is the Aerospace Engineering degree part of the New Undergraduate Experience initiative for a broader-based and more comprehensive, multi-disciplinary learning experience?\n",
      "If I have successfully completed a Diploma at a local Polytechnic or LaSalle or NAFA can I be awarded advanced standing in SADM's BFA?\n",
      "Can you tell me more about EEE?\n",
      "What are the unique features of the chemical and biomolecular engineering at NTU?\n",
      "I understand that NTUs BioEngineering programme offers a lot of practical, real-life experience. Can you elaborate?\n",
      "What are the specializations offered under the Business Programme?\n",
      "Will I be in a disadvantageous position after learning Chinese for four years, and that working language in Singapore is English?\n",
      "How do I notify the school if I want to be considered for exemptions from courses in the SBS Biological Sciences programme?\n",
      "I am very interested in the programme but I do not have a biology background. Is the Chemical & Biomolecular Engineering course suitable for me?\n",
      "Is there a School of Bioengineering at NTU?\n",
      "Can I Complete the English Major Programme in Less than 4 years?\n",
      "Difference between Computer Engineering and Computer Science\n",
      "How well recognised is my future NTU EEE degree?\n",
      "I am a Polytechnic student. Can I obtain exemptions for similar courses completed in Diploma for Business undergraduate programme?\n",
      "I heard that there is a minimum GP score. What is it? Why do you have to use GP?\n",
      "Since Bioengineering is so broad, what can I specialize in?\n",
      "I have surfed your School's website and find it to be informative. For the answer to question 4 of the FAQ, it was stated that \".... In short, SPMS graduates, just like engineering graduates .... work together as team members all across the Singapore economy\". The answer seems nullified when I was at the College of Engineering's website that says \"A scientist discovers that which exists. An engineer creates that which never was - Theodore von Karman\". [Submitted by Andrew Goh]\n",
      "Is It an advantage to have studied Economics at GCE A-Level?\n",
      "Can you tell me more about the Second Specialization programme for Accountancy students?\n",
      "What is a typical job description of a chemical and biomolecular engineer?\n",
      "What are the specialisations offered in Computer Science?\n",
      "What are the admissions requirements for Economics degree?\n",
      "What if I want to change my major after the first year?\n",
      "I am a polytechnic student and have been offered entry into year 2 of the SBS Biological Sciences programme. Can I opt to start in year 1 instead?\n",
      "What are the portfolio requirements for acceptance into SADM?\n",
      "How do I apply for the NIE initial teacher training programmes?\n",
      "How is the Classification of Honours determined for the Double Degree (Acc & Bus) programme? What is the percentage of students who graduate with honours?\n",
      "Exemption for NUS High School students\n",
      "Is there an 'internship' or 'attachment' programme in the SBS Biological Sciences degree?\n",
      "If I do not have an O level Chinese, can I use other external Chinese examinations, such as HSK, for application to the double degree in Biomedical Sciences and Chinese Medicine programme?\n",
      "What are the cut-offs for the double degree in Biomedical Sciences and Chinese Medicine programme?\n",
      "Will I have the opportunity to study abroad (HSS)?\n",
      "Do you offer the Business programme on a part-time basis?\n",
      "What is the prospect of an Environmental Engineer? Give some examples of companies and the role of an Environmental Engineer.\n",
      "I am reading Chinese/Higher Chinese at A level. Do I have an advantage in doing the Chinese Major (Humanities and Social Sciences)?\n",
      "Does NTU offer a 4-year direct honours B.Sc. in Biomedical Sciences (Hons) degree programme?\n",
      "How long is the Bioengineering programme?\n",
      "Will bright students be exempted from certain Materials Engineering course subjects and, if so, what are the criteria for exemption?\n",
      "Do I need to serve a bond with the Ministry of Education (MOE) after completing my initial teacher training at NIE/NTU?\n",
      "How good are the facilities and infrastructure of the School of EEE?\n",
      "What are the differences between Civil Engineering (CE) and Environmental Engineering (EnvE) in CEE?\n",
      "Do you offer the Double Degree (Acc & Bus) programme on a part-time basis?\n",
      "What are the cut-offs for the Business programme?\n",
      "Are there plans to extend the Aerospace Engineering degree into post-graduate studies?\n",
      "In some programmes that I know students graduate with degrees reflecting their major in life sciences. Does the SBS Biological Science degree reflect the area of specialization when students graduate?\n",
      "Does the NTU School of Biological Sciences have a scholars programme or accelerated programme to nurture and groom top students?\n",
      "Admission requirement for psychology course\n",
      "What Combinations of English Literature Subjects Should I Take?\n",
      "How is the Accountancy curriculum run? What are the learning/teaching styles under the Accountancy Programme? What is the emphasis of the Accountancy curriculum?\n",
      "How are the undergraduate programmes offered by the school of Physical and Mathematical Sciences be carried out?\n",
      "Will Chinese Major undergraduates have the opportunity to study abroad?\n",
      "Why should I choose to study physical and mathematical sciences?\n",
      "What are the rationale and reasons for setting up this Aerospace Engineering degree?\n",
      "What is the difference between Bio-Engineering and Materials Engineering Courses?\n",
      "What are the job prospects for our Accountancy graduates? Does NBS help its graduates secure jobs?\n",
      "What are the job prospects for me if I'm in the Mechatronics stream?\n",
      "What are the differences between the NIE initial teacher training programmes?\n",
      "Is it very difficult to get into your program? How many applicants were there in the past and how many actually got in?\n",
      "What is the duration of the Accountancy Programme and the modules to be covered?\n",
      "Other than the New Undergraduate Experience, does the new Aerospace Engineering degree overlap into other bigger scheme of things?\n",
      "Who are the target group for this degree? Who does the degree hope to attract?\n",
      "I did not take A Level Biology. Do I still qualify for SBS Biological Sciences?\n",
      "Why is there a need for an 'O' level pass in Additional Mathematics for the Psychology course?\n",
      "What are the job prospects of a graduate in physical and mathematical sciences?\n",
      "How long has the SBS Biological Sciences programme been around?\n",
      "Do you offer video courses?\n",
      "Can I practice as a qualified TCM practitioner outside Singapore upon graduation from the double degree in Biomedical Sciences and Chinese Medicine programme?\n",
      "What are the courses offered at NIE?\n",
      "When does the aerospace in NTU begin?\n",
      "I am in my second year of the Biological Sciences degree programme. Can I transfer directly to year 2 of the double degree in Biomedical Sciences and Chinese Medicine programme?\n",
      "How many students are accepted per year into the double degree in Biomedical Sciences and Chinese Medicine programme?\n",
      "I heard that the employment market is not favourable for Civil Engineers, and it may get worse in the future. When will you see the same situation happening for Environmental Engineers?\n",
      "Does SBS recommend all students to take a minor?\n",
      "What degrees are offered to SPMS undergraduates?\n",
      "What is the job market for Materials Engineers? What is the number of Materials graduates required on a national scale each year?\n",
      "What are the cut-offs for the Accountancy programme?\n",
      "Technology in Environmental Engineering is moving very fast. How does NTU keep-up and with whom do you collaborate in research and development?\n",
      "What is the demand for chemical and biomolecular engineers in Singapore and the region?\n",
      "What are the companies that would most likely employ chemical and biomolecular engineers?\n",
      "Exemption for IB students\n",
      "Are both the degrees of the double degree in Biomedical Sciences and Chinese Medicine programme internationally recognised?\n",
      "I am a JC student. Can I obtain exemptions for the Year 1 Economics course as I have taken a similar course at A level for Accountancy undergraduate programme?\n",
      "What are the job prospects of a graduate in the physical and mathematical sciences?\n",
      "Can communication studies students take minors? If so, in what subjects areas?\n",
      "Can someone with complete or partial colour-blindness be admitted to the double degree in Biomedical Sciences and Chinese Medicine programme?\n",
      "What can I do with an SCI degree?\n",
      "What are the different areas of specialisation offered by the School of MAE?\n",
      "Descriptions of the undergraduate programme offered by the School of Mechanical & Aerospace Engineering?\n",
      "What combinations of Economics subjects should I take?\n",
      "How are the examinations carried out in the double degree in Biomedical Sciences and Chinese Medicine programme? Do I have to answer the written papers in Mandarin?\n",
      "Are interviews conducted as part of the admission process for the double degree in Biomedical Sciences and Chinese Medicine programme?\n",
      "What are the qualifications and experiences of the instructors in this new Aerospace Engineering program?\n",
      "What is the duration of the Business Programme?\n",
      "I'm confused; how do SADM subjects differ from those offered by the School of Communication and Information?\n",
      "I have heard about SADM and that there is nothing like it in Singapore or the region. How is it different?\n",
      "May I know about b.com and computer software diploma in your college\n",
      "Is it possible to withdraw after 3 years and be awarded the B.Sc. in Biomedical Sciences (Hons)?\n",
      "How is the Business curriculum run? What are the learning/teaching styles under the Business Programme? What is the emphasis of the Business curriculum?\n",
      "Can I gain actual practical or industrial experience at related companies or institutions during the Chemical & Biomolecular Engineering course?\n",
      "If I were to register for the SBS Biological Sciences degree would I be able to take a minor in another programme? If so, what minors are available?\n",
      "How much money can I earn with an SCI degree?\n",
      "Do your university has Biotechnology Engineering?\n",
      "What is the emphasis of the Chinese Major at NTU(Humanities and Social Sciences?\n",
      "What can I do with a degree in Chinese?\n",
      "I hear about the School of MAE's Leadership Development Programme. Can you tell me more about it? Is this unique to MAE only?\n",
      "How is NBS ranked in the world amongst other Business Schools?\n",
      "What are the Career Prospects for English Major graduates?\n",
      "What are the job prospects for our Business graduates? Does NBS help its graduates secure jobs?\n",
      "Are there any similarities between Chemical and Materials Engineering?\n",
      "What do Materials Scientists and Engineers specialise in and which industries will require them?\n",
      "How many students are accepted per year into the SBS Biological Sciences programme?\n",
      "Would I be at a disadvantage in the Computer Engineering course without any prior knowledge of Computing?\n",
      "What is the number of students accepted per year for Double Degree (Acc & Bus) programme?\n",
      "How is English Literature at NTU Different?\n",
      "Can I complete the Chinese program in less than 4 years (Humanities and Social Sciences)?\n",
      "During my Bioengineering programme, will I have the opportunity to study abroad?\n",
      "What are the strengths of having a specialized NBS Business degree over a general business degree?\n",
      "What does an Economist do?\n",
      "What are the second-year entry requirements for the new Aerospace Degree Programme in NTU?\n",
      "How long has the Business programme been around?\n",
      "What is the initial intake for Aerospace Engineering degree programme?\n",
      "Are there any opportunities for laboratory work and research in the double degree in Biomedical Sciences and Chinese Medicine programme?\n",
      "What is the total number of Academic units (AUs) that I need to take to graduate from Bioengineering?\n",
      "What expenses do I need to pay for while studying at the Beijing University of Chinese Medicine (BUCM)?\n",
      "What are the specialisations offered in Computer Engineering?\n",
      "Exemption for Polytechnic students\n",
      "What are the cut-offs for the Double Degree (Acc & Bus) programme?\n",
      "How is the Classification of Honours determined for Accountancy programme? What is the percentage of students who graduate with honours?\n",
      "This Aerospace Engineering degree most directly affects prospective A-level and diploma holders. Does it in any way affect our current batch of students? Are there any ways that current students can have a chance to cross into the aerospace curriculum?\n",
      "What is so special about your Aerospace curriculum?\n",
      "Is there Msc in Civil and Structural engineering in Nanyang Technological University?\n",
      "What are the academic programmes offered by the School of MAE?\n",
      "Exemption for 'A' Level students\n",
      "Are any courses taught in Chinese in the double degree in Biomedical Sciences and Chinese Medicine programme?\n",
      "What are the differences between the Biomedical Sciences and Biological Sciences degrees offered at NTU?\n",
      "Are interviews conducted as part of the admission process for the Double Degree (Acc & Bus) programme?\n",
      "What if I Am Not Strong in Mathematics for Economics program?\n",
      "What are the career prospects for graduates from the School of Biological Sciences?\n",
      "Am I right to say that by taking up the Computer Engineering Course, I will be learning what is offered in the Computer Science Course, and on top of that I'll be learning much more topics not covered by Computer Science Course?\n",
      "Difference between Aerospace and Aeronautical Engineering\n",
      "How is the Classification of Honours determined for Business students? What is the percentage of students who graduate with honour?\n",
      "How about the passing grade of Math and Chemistry if I'd like to take CBE in undergraduate programmes?\n",
      "Can I join NTU from an aerospace program outside of Singapore?\n",
      "What is an Economist?\n",
      "Is The Programme Open to All Polytechnic Students? Is the Mathematics Admission Requirement the Same as That of A-Level Students for the Economics program?\n",
      "How is Economics at NTU different?\n",
      "Why should I choose to accept a place in the NTU School of Biological Sciences instead of another university?\n",
      "What is Environmental Engineering?\n",
      "Will I receive my first degree after 3 years and the second degree after 5 years in the double degree in Biomedical Sciences and Chinese Medicine programme?\n",
      "Is there a possibility for Chemical & Biomolecular Engineering students to do an exchange programme with foreign univerisities?\n",
      "Is It an Advantage to Have Studied Literature at A-Level?\n",
      "What are the differences between \"mechatronic\" course and main stream course?\n",
      "I am interested in taking the psychology course earning the degree of Bachelor in Arts (Hons) majoring in Psychology. Is the course available on part time basis?\n",
      "What Are the Admissions Requirements for entry to Economics programme?\n",
      "What is the difference between a Bachelor of Accountancy & the ACCA qualification?\n",
      "What is the normal duration of the initial teacher training programmes?\n",
      "What are the career prospects for economics degree graduates?\n",
      "Is there a part-time option for the double degree in Biomedical Sciences and Chinese Medicine programme?\n",
      "What's out there for me upon my graduation with a BEng(Mech) degree from NTU?\n",
      "How are the undergraduate programmes offered by the School of Physical and Mathematical Sciences carried out?\n",
      "Why study Economics?\n",
      "What kind of undergraduate qualifications are offered under Art, Design & Media ?\n",
      "Do I need to be of a Chinese background to be eligible for the double degree in Biomedical Sciences and Chinese Medicine programme?\n",
      "I am interested in Chinese, but I have practical concerns as well. What shall I do?\n",
      "What are the undergraduate programmes offered by NBS?\n",
      "I am interested in forensic science. Does the NTU School of Biological Sciences offer this course?\n",
      "If I produce outstanding grades but do not obtain a pass for elementary maths at O level, will I be able to gain entry to courses like Economics and Psychology?\n",
      "What is the number of Accountancy students accepted per year?\n",
      "If I had decided to take a minor, how should I go about for the application? Any special document needed?\n",
      "I am a polytechnic student. Can I obtain exemptions for any Year 1 courses in the SBS Biological Sciences programme if I have taken a similar course during my diploma studies?\n",
      "What are the future prospects for holders of this Aerospace Engineering degree? Any examples of specific jobs that aerospace graduates can expect to hold?\n",
      "Why is the intake for Aerospace Engineering degree so small? Are there plans to expand the intake in future?\n",
      "I am interested in Chinese (Humanities and Social Sciences), but I have practical concerns as well. What shall I do?\n",
      "Can polytechnic students enter directly into the second year of the double degree in Biomedical Sciences and Chinese Medicine programme?\n",
      "What is the Mechanical Engineering's Design stream all about?\n",
      "What is the difference between a double degree and a double major?\n",
      "How is the Chinese Major at NTU different?\n",
      "How is the BFA structured?\n",
      "Are polytechnic graduates eligible for the double degree in Biomedical Sciences and Chinese Medicine programme?\n",
      "How will students from the Polytechnics be able to complete the Materials Engineering course in less than four years?\n",
      "Is Professional Attachment or Internship compulsory for Business students? What companies will I be attached to ?\n",
      "Do you offer Digital Media courses?\n",
      "Can I complete the Economics programme in less than 4 years?\n",
      "I have not taken A level chemistry. Would I have difficulties in coping in SBS Biological Sciences?\n",
      "What do I have to do to get into SADM? Does it use the usual university academic prerequisites?\n",
      "Are interviews conducted as part of the admission process for Business undergraduate programme?\n",
      "Does the Chinese Major accept international students?\n",
      "Will I be in a disadvantageous position after learning Chinese for four years, and that working language in Singapore is English (Humanties and Social Science)?\n",
      "Does the Chinese Major (Humanities and Social Science) accept international students?\n",
      "Is Chinese language a compulsory prerequisite for admission into the double degree in Biomedical Sciences and Chinese Medicine programme?\n",
      "What is the number of Business students accepted per year ?\n",
      "Are interviews conducted as part of the admission process for the SBS Biological Sciences programme?\n",
      "GPA required to enter into material engineering\n",
      "What is a 'Direct-Honours' programme?\n",
      "Are international students eligible for admission into the double degree in Biomedical Sciences and Chinese Medicine programme?\n",
      "Subject requirements for engineering\n",
      "Are there any scholarships that I can apply for to subsidise my fees at either NTU or the Beijing University of Chinese Medicine (BUCM)?\n",
      "I would like to enquire what are the requirements in order to enrol into Art, Design & Media course?\n",
      "What are the scholarships and types of financial support available for studying in the School of Biological Sciences?\n",
      "I am very interested in your course, but I don't think I can get in at all. What are your suggestions?\n",
      "How degrees are offered to SPMS undergraduates?\n",
      "What do Civil Engineers do?\n",
      "I am a Polytechnic student. Can I obtain exemptions for similar courses completed in Diploma for the Double Degree (Acc & Bus) programme?\n",
      "What are the research areas that may be suitable for me after I graduate from this Chemical & Biomolecular Engineering programme?\n",
      "If a diploma holder (food technology) work in medical/pharmaceutical industry, can he/she study a course in medical industry?\n",
      "What are the job prospects of a Computer Engineering/Science graduate?\n",
      "When will I find out if I am exempted from any courses in the SBS Biological Sciences programme?\n",
      "I have heard about Bioengineering, but am not sure what it is?\n",
      "Why is SCE's Computer Science degree an Engineering degree?\n",
      "I am interested, what I need to do to enter NTU EEE degree course?\n",
      "Can I Complete the Economics Program in Less than 4 years?\n",
      "How is the NBS Accountancy programme different from the SMU Bachelor of Accountancy degree?\n",
      "What are the differences between Computer Engineering and Computer Science?\n",
      "Is the Accountancy programme accredited by any professional bodies?\n",
      "What are the future prospects for holders of Aerospace Engineering degree? Any examples of specific jobs that aerospace graduates can expect to hold?\n",
      "How long has the Accountancy programme be around?\n",
      "How does the NTU B.Sc. in Biological Sciences (Hons) programme differ from other programmes?\n",
      "How long is NTU's Arts, Design & Media course?\n",
      "I would like to ask what is the minimum requirement for students from Polytechnic to enter NTU Engineering Faculty and Degree in Accountancy, and that whether FTMS diplomas and certificates are recognised in NTU.\n",
      "Is there any sports related courses in NTU?\n",
      "Can you tell me more about the Second Specialisation programme for Business students?\n",
      "What are the undergraduate programmes offered by the School of Biological Sciences?\n",
      "I am a Polytechnic student. Can I obtain exemptions for similar courses completed in Diploma for Accountancy undergraduate programme?\n",
      "All requirements for Art Design Media college?\n",
      "When will the BEng (Chemical and Biomolecular Engineering) degree programme in NTU be launched and what are the minimum entry requirements?\n",
      "Is there any full time project or research work during the SBS Biological Sciences degree?\n",
      "How is the NBS Business programme different from the NUS - Bachelor of Business Administration which is a general degree?\n",
      "I would like to further my studies in Environmental Engineering. Will my training in NTU provide the necessary foundation for higher studies in, say, USA or UK?\n",
      "Is Professional Attachment or Internship compulsory for Accountancy students? What companies will I be attached to?\n",
      "How long has the double degree in Biomedical Sciences and Chinese Medicine programme been around?\n",
      "What is so great about NTU's Bioengineering programme?\n",
      "Should Polytechnic students study Economics?\n",
      "Does the SBS Biological Sciences degree have a specific focus?\n",
      "What is the research standing of NBS - faculty?\n",
      "What is a 'direct honours' programme?\n",
      "Why is the Aerospace Engineering degree so specialised right from the first year?\n",
      "Are DD (Acc & Bus) students allowed to do a third specialization at NBS (on top of their Acc and Bus specialization)?\n",
      "What is the criteria to have double majors? Do i need to apply when i'm applying for admissions to the school?\n",
      "Are students who have not taken Chemistry and/or Physics at A-levels at a disadvantage compared with those who have? (A similar question: Will a student who has taken both Physics and Chemistry at A-level have a considerable advantage over another student who has taken only Physics or Chemistry but is quite determined to read materials engineering courses?)\n",
      "How does the School of Biological Sciences assist freshmen in integrating into university life?\n",
      "Can I do more than just obtain a basic EEE Bachelors' degree?\n",
      "I do not want to be an Engineering graduate with a little bit of Biology in my portfolio. How much Biology can I hope to learn during this Bioengineering programme?\n",
      "Do you offer the Accountancy programme on a part-time basis?\n",
      "I am currently serving NS and will ORD next year Feb.I will be entering NTU in Mechanical Engineering course next year. However, I would like to change my course to Economics. Is there a way to change the course now or I have to wait till march next year to apply again?\n",
      "What are the job prospects for Mechanical Engineering's Design stream?\n",
      "I'm applying for the MOE Teaching Scholarship and the PSC Scholarship. Can I enroll as a student as SPMS ?\n",
      "Why should I choose to study the physical and mathematical sciences?\n",
      "The undergraduate programmes offered by the School of Computer Engineering?\n",
      "What is the difference between a Double Degree and a Second specialization?\n",
      "I heard that you have joint programmes with Stanford University where students can spend a semester in Stanford. As a matriculated NTU student, is it possible for me to spend part of my undergraduate studies at Stanford?\n",
      "I am very interested, but I am not sure if I can make it. What is your advice?\n",
      "Why Study English Literature?\n",
      "How about the Bioengineering course structure? How broad-based is it?\n",
      "What is the emphasis of the Chinese Major at NTU?\n",
      "What global accreditations does NBS have and the significance of such accreditations?\n",
      "What are my career options after I graduate from Bioengineering? Can I go into industry?\n",
      "What If I Want to Change My Major after the First Year in Economics program?\n",
      "What if an Economics undergraduate is not strong in Mathematics?\n",
      "Why pursue an EEE degree in NTU?\n",
      "Can I withdraw from the double degree in Biomedical Sciences and Chinese Medicine programme at any time?\n",
      "What is material engineering?\n",
      "How is your program different from the polytechnics'? I heard that both the university and the polytechnics are teaching the same thing. I also heard that polytechnic graduates are more employable and hands-on.\n",
      "The Aerospace Engineering degree is a joint initiative among several existing divisions of the Engineering school. Will students use the existing facilities? Or are new facilities being built specially for this degree?\n",
      "I am reading Chinese/Higher Chinese at A level. Do I have an advantage in doing the Chinese Major?\n",
      "Is it an advantage to have studied Economics at A-Level?\n",
      "Are there any specific subjects that I need?\n",
      "Can you tell me how well recognised is the BEng (Mech) degree?\n"
     ]
    }
   ],
   "source": [
    "for i in range(len(questions)):\n",
    "    if categories_string[i] == 'Home > Undergraduate Admissions & Financial Assistance > Specific Programme Questions':\n",
    "        print(questions[i])"
   ]
  },
  {
   "cell_type": "code",
   "execution_count": 10,
   "metadata": {},
   "outputs": [],
   "source": [
    "def changeLabel(label_list, label_1, label_2):\n",
    "    new_label_list = []\n",
    "    for i in range(len(label_list)):\n",
    "        if label_list[i] == label_1:\n",
    "            new_label_list.append(label_2)\n",
    "        else:\n",
    "            new_label_list.append(label_list[i])\n",
    "    return new_label_list"
   ]
  },
  {
   "cell_type": "code",
   "execution_count": 11,
   "metadata": {},
   "outputs": [],
   "source": [
    "categories_string = changeLabel(categories_string, 'Home > Undergraduate Admissions & Financial Assistance > Accommodation', 'Home > Campus Life')"
   ]
  },
  {
   "cell_type": "code",
   "execution_count": 12,
   "metadata": {},
   "outputs": [],
   "source": [
    "categories_string = changeLabel(categories_string, 'Home > Graduate Admissions & Academic Services > Conferment of Degree (Research)', 'Home > Undergraduate Academic Services')"
   ]
  },
  {
   "cell_type": "code",
   "execution_count": 13,
   "metadata": {},
   "outputs": [],
   "source": [
    "categories_string = changeLabel(categories_string, 'Home > Graduate Admissions & Academic Services > Conversion/Extension of Candidature (Research)', 'Home > Undergraduate Academic Services')"
   ]
  },
  {
   "cell_type": "code",
   "execution_count": 14,
   "metadata": {},
   "outputs": [],
   "source": [
    "categories_string = changeLabel(categories_string, 'Home > Graduate Admissions & Academic Services > Course Registration', 'Home > Undergraduate Academic Services')"
   ]
  },
  {
   "cell_type": "code",
   "execution_count": 15,
   "metadata": {},
   "outputs": [],
   "source": [
    "categories_string = changeLabel(categories_string, 'Home > Graduate Admissions & Academic Services > Degree Candidature (Coursework)', 'Home > Undergraduate Academic Services')"
   ]
  },
  {
   "cell_type": "code",
   "execution_count": 16,
   "metadata": {},
   "outputs": [],
   "source": [
    "categories_string = changeLabel(categories_string, 'Home > Graduate Admissions & Academic Services > Examination', 'Home > Undergraduate Academic Services')"
   ]
  },
  {
   "cell_type": "code",
   "execution_count": 17,
   "metadata": {},
   "outputs": [],
   "source": [
    "categories_string = changeLabel(categories_string, 'Home > Graduate Admissions & Academic Services > Leave of Absence (Research)', 'Home > Undergraduate Academic Services')"
   ]
  },
  {
   "cell_type": "code",
   "execution_count": 18,
   "metadata": {},
   "outputs": [],
   "source": [
    "categories_string = changeLabel(categories_string, 'Home > Graduate Admissions & Academic Services > Thesis Matters', 'Home > Undergraduate Academic Services')"
   ]
  },
  {
   "cell_type": "code",
   "execution_count": 19,
   "metadata": {},
   "outputs": [],
   "source": [
    "categories_string = changeLabel(categories_string, 'Home > Graduate Admissions & Academic Services > Withdrawal/Termination of Candidature (Research)', 'Home > Undergraduate Academic Services')"
   ]
  },
  {
   "cell_type": "code",
   "execution_count": 20,
   "metadata": {},
   "outputs": [],
   "source": [
    "counter = Counter(categories_string)"
   ]
  },
  {
   "cell_type": "code",
   "execution_count": 21,
   "metadata": {},
   "outputs": [
    {
     "data": {
      "text/plain": [
       "Counter({'Home > Alumni Services': 4,\n",
       "         'Home > Alumni Services > Academic services': 3,\n",
       "         'Home > Alumni Services > Alumni Associations / Clubs': 2,\n",
       "         'Home > Alumni Services > Electronic services': 7,\n",
       "         'Home > Campus Life': 11,\n",
       "         'Home > Campus Life > General': 7,\n",
       "         \"Home > Campus Life > Graduate Students' Accommodation\": 2,\n",
       "         'Home > Campus Life > Hall Admission Scheme': 64,\n",
       "         'Home > Campus Life > Hall Living': 61,\n",
       "         'Home > Campus Life > Off-campus Accommodation': 4,\n",
       "         'Home > Campus Life > Other departments': 11,\n",
       "         'Home > Campus Life > Short Term Accommodation': 1,\n",
       "         'Home > Campus Life > Sports & Recreation': 23,\n",
       "         'Home > Campus Life > Student Activities': 13,\n",
       "         'Home > Campus Life > Support Services': 7,\n",
       "         \"Home > Campus Life > Undergraduate Students' Accommodation\": 57,\n",
       "         'Home > Career & Attachment > Big 4 Joint Recruitment': 9,\n",
       "         'Home > Career & Attachment > Corporate': 5,\n",
       "         'Home > Career & Attachment > EIA': 6,\n",
       "         'Home > Career & Attachment > IA': 23,\n",
       "         'Home > Career & Attachment > IO': 10,\n",
       "         'Home > Career & Attachment > Professional Attachment - Semester 1&2': 14,\n",
       "         'Home > Career & Attachment > Professional Internship': 7,\n",
       "         'Home > Donation > General': 1,\n",
       "         'Home > Donation > Giving To NTU': 12,\n",
       "         'Home > Exchange & Attachment > Inbound': 34,\n",
       "         'Home > Exchange & Attachment > Outbound': 140,\n",
       "         'Home > Facility Services > Building & Infrastructure': 7,\n",
       "         'Home > Facility Services > Campus Traffic Enforcement': 6,\n",
       "         'Home > Facility Services > Car Park Facility': 4,\n",
       "         'Home > Facility Services > Events Support': 1,\n",
       "         'Home > Facility Services > External Areas': 8,\n",
       "         'Home > Facility Services > Leases': 2,\n",
       "         'Home > Facility Services > Security Services': 9,\n",
       "         'Home > Financial Services > Procurement & Insurance': 17,\n",
       "         'Home > Financial Services > Student Services': 27,\n",
       "         'Home > Graduate Admissions & Academic Services > Admission (Coursework)': 19,\n",
       "         'Home > Graduate Admissions & Academic Services > Admission (Research)': 24,\n",
       "         'Home > IT Services': 2,\n",
       "         'Home > IT Services > Account & Password': 43,\n",
       "         'Home > IT Services > Campus Computing Facilities': 12,\n",
       "         'Home > IT Services > Computer Ownership Scheme': 9,\n",
       "         'Home > IT Services > Computer Software': 114,\n",
       "         'Home > IT Services > Email & Mailing List': 78,\n",
       "         'Home > IT Services > MySite & Department Teamsite': 3,\n",
       "         'Home > IT Services > Network & Connectivity': 70,\n",
       "         'Home > IT Services > Printing / Scanning / Faxing': 17,\n",
       "         'Home > IT Services > Security & Regulations': 9,\n",
       "         'Home > Library Services > Collections & Access': 47,\n",
       "         'Home > Library Services > Copyright Issues': 17,\n",
       "         'Home > Library Services > Digital Repository': 13,\n",
       "         'Home > Library Services > Donations & Gifts': 2,\n",
       "         'Home > Library Services > EndNote': 35,\n",
       "         'Home > Library Services > Exam Papers': 6,\n",
       "         'Home > Library Services > Facilities': 98,\n",
       "         'Home > Library Services > Instructional Services': 4,\n",
       "         'Home > Library Services > Interlibrary Loans & Document Delivery': 8,\n",
       "         'Home > Library Services > Library Catalogue': 7,\n",
       "         'Home > Library Services > Library Tools': 11,\n",
       "         'Home > Library Services > Loan Services': 25,\n",
       "         'Home > Library Services > Membership': 35,\n",
       "         'Home > Library Services > Open Access at NTU': 23,\n",
       "         'Home > Library Services > Orientation, Tours & Exhibitions': 4,\n",
       "         'Home > Library Services > Others': 9,\n",
       "         'Home > Library Services > Reference Questions': 27,\n",
       "         'Home > Library Services > Research Assistance': 8,\n",
       "         'Home > Library Services > Reserves': 5,\n",
       "         'Home > Library Services > Security & Personal Belongings': 2,\n",
       "         'Home > Teaching & Learning > About NTULearn and Related Learning Services': 4,\n",
       "         'Home > Teaching & Learning > Design & Media Services': 15,\n",
       "         'Home > Undergraduate Academic Services': 65,\n",
       "         'Home > Undergraduate Academic Services > Attachment Programme': 4,\n",
       "         'Home > Undergraduate Academic Services > Certification Letter': 1,\n",
       "         'Home > Undergraduate Academic Services > Change of Programme': 7,\n",
       "         'Home > Undergraduate Academic Services > Convocation': 11,\n",
       "         'Home > Undergraduate Academic Services > Degree Certificate': 4,\n",
       "         'Home > Undergraduate Academic Services > Examination': 56,\n",
       "         'Home > Undergraduate Academic Services > Exchange Students': 34,\n",
       "         'Home > Undergraduate Academic Services > Leave of Absence': 7,\n",
       "         'Home > Undergraduate Academic Services > Matriculation': 14,\n",
       "         'Home > Undergraduate Academic Services > Medals & Prizes': 1,\n",
       "         'Home > Undergraduate Academic Services > Other Matters': 10,\n",
       "         'Home > Undergraduate Academic Services > Qualifying English Test': 6,\n",
       "         'Home > Undergraduate Academic Services > Registration': 118,\n",
       "         'Home > Undergraduate Academic Services > Streaming': 1,\n",
       "         'Home > Undergraduate Academic Services > Tuition Grant': 2,\n",
       "         'Home > Undergraduate Academic Services > Withdrawal from University': 3,\n",
       "         'Home > Undergraduate Admissions & Financial Assistance > Discretionary Admissions (DA)': 19,\n",
       "         'Home > Undergraduate Admissions & Financial Assistance > Generic Questions': 131,\n",
       "         'Home > Undergraduate Admissions & Financial Assistance > International Admissions (Category D)': 85,\n",
       "         'Home > Undergraduate Admissions & Financial Assistance > International Baccalaureate (IB) Diploma': 13,\n",
       "         'Home > Undergraduate Admissions & Financial Assistance > Local Admissions': 111,\n",
       "         'Home > Undergraduate Admissions & Financial Assistance > Medical School': 40,\n",
       "         'Home > Undergraduate Admissions & Financial Assistance > NUS High School Diploma': 14,\n",
       "         'Home > Undergraduate Admissions & Financial Assistance > Premier Scholars Programmes': 5,\n",
       "         'Home > Undergraduate Admissions & Financial Assistance > Scholarship': 35,\n",
       "         'Home > Undergraduate Admissions & Financial Assistance > Specific Programme Questions': 289})"
      ]
     },
     "execution_count": 21,
     "metadata": {},
     "output_type": "execute_result"
    }
   ],
   "source": [
    "counter"
   ]
  },
  {
   "cell_type": "code",
   "execution_count": 22,
   "metadata": {},
   "outputs": [],
   "source": [
    "categories_string = changeLabel(categories_string, 'Home > Undergraduate Admissions & Financial Assistance > Specific Programme Questions', 'Home > Specific Programme Questions')"
   ]
  },
  {
   "cell_type": "code",
   "execution_count": null,
   "metadata": {},
   "outputs": [],
   "source": []
  },
  {
   "cell_type": "code",
   "execution_count": null,
   "metadata": {},
   "outputs": [],
   "source": []
  },
  {
   "cell_type": "code",
   "execution_count": 23,
   "metadata": {},
   "outputs": [],
   "source": [
    "categories_menu_list = [[menu.strip() for menu in label.split('>')] for label in categories_string]"
   ]
  },
  {
   "cell_type": "code",
   "execution_count": null,
   "metadata": {},
   "outputs": [],
   "source": []
  },
  {
   "cell_type": "code",
   "execution_count": null,
   "metadata": {},
   "outputs": [],
   "source": []
  },
  {
   "cell_type": "code",
   "execution_count": null,
   "metadata": {},
   "outputs": [],
   "source": []
  },
  {
   "cell_type": "code",
   "execution_count": 24,
   "metadata": {},
   "outputs": [],
   "source": [
    "categories_string = reduceLabel(categories_menu_list, 2)"
   ]
  },
  {
   "cell_type": "code",
   "execution_count": 25,
   "metadata": {},
   "outputs": [],
   "source": [
    "counter = Counter(categories_string)"
   ]
  },
  {
   "cell_type": "code",
   "execution_count": 26,
   "metadata": {},
   "outputs": [
    {
     "data": {
      "text/plain": [
       "Counter({'Home > Alumni Services': 16,\n",
       "         'Home > Campus Life': 261,\n",
       "         'Home > Career & Attachment': 74,\n",
       "         'Home > Donation': 13,\n",
       "         'Home > Exchange & Attachment': 174,\n",
       "         'Home > Facility Services': 37,\n",
       "         'Home > Financial Services': 44,\n",
       "         'Home > Graduate Admissions & Academic Services': 43,\n",
       "         'Home > IT Services': 357,\n",
       "         'Home > Library Services': 386,\n",
       "         'Home > Specific Programme Questions': 289,\n",
       "         'Home > Teaching & Learning': 19,\n",
       "         'Home > Undergraduate Academic Services': 344,\n",
       "         'Home > Undergraduate Admissions & Financial Assistance': 453})"
      ]
     },
     "execution_count": 26,
     "metadata": {},
     "output_type": "execute_result"
    }
   ],
   "source": [
    "counter"
   ]
  },
  {
   "cell_type": "code",
   "execution_count": 27,
   "metadata": {},
   "outputs": [],
   "source": [
    "def mergeLabel(label_list, label_1, label_2):\n",
    "    combined_label = label_1 + \" + \" + label_2\n",
    "    new_label_list = []\n",
    "    for i in range(len(label_list)):\n",
    "        if label_list[i] == label_1 or label_list[i] == label_2:\n",
    "            new_label_list.append(combined_label)\n",
    "        else:\n",
    "            new_label_list.append(label_list[i])\n",
    "    \n",
    "    return new_label_list"
   ]
  },
  {
   "cell_type": "code",
   "execution_count": 28,
   "metadata": {},
   "outputs": [
    {
     "name": "stdout",
     "output_type": "stream",
     "text": [
      "How do I broadcast live event to ChannelNTU plasma TV or to another Lecture Theatre?\n",
      "How do I request to convert VHS tape, mini-DV or DVD disc to CDs?\n",
      "How do I request to convert photos to digital desktop presentation formats, DVDs or CDs?\n",
      "How do I approach the CITS for any of the Design & Media services?\n",
      "How do I request to design graphics for brochures, invitation cards, leaflets, posters, banners or other print publications?\n",
      "What assistance can I get for design of desktop presentations, conference CD/DVD-ROM, or web design?\n",
      "What are the related 'Learning Services' available in NTULearn?\n",
      "Can CITS print leaflet, poster, banner, and others?\n",
      "What is the procedure to request to video-record corporate events, lectures and teaching experiments on location for teaching, promotional and archival purposes?\n",
      "If I need to record radio or TV programme, how can CITS help me?\n",
      "How do I request to record audio for announcements or for narration over video programme?\n",
      "What is NTULearn?\n",
      "How do I request to put photos, video clips and slides presentations on the campus - wide ChannelNTU plasma TV to let people know about upcoming events?\n",
      "I have a planned sequence of a video for lectures and teaching experiments. How can I get that recorded?\n",
      "Can CITS convert audio cassettes to audio CDs?\n",
      "What should I do if I need help to take photographs of lab activities, project work, major events, etc?\n",
      "How do I remove video contents such as advertisements, long breaks etc... from a VHS tape, mini-DV or DVD to a new edited VCD, DVD or to school website?\n",
      "How do I check for plagiarism for the work submitted by student?\n",
      "How and when can I access my course sites in NTULearn?\n"
     ]
    }
   ],
   "source": [
    "for i in range(len(questions)):\n",
    "    if categories_string[i] == 'Home > Teaching & Learning':\n",
    "        print(questions[i])"
   ]
  },
  {
   "cell_type": "code",
   "execution_count": 29,
   "metadata": {},
   "outputs": [],
   "source": [
    "categories_2 = mergeLabel(categories_string, 'Home > Campus Life', 'Home > Facility Services')"
   ]
  },
  {
   "cell_type": "code",
   "execution_count": 30,
   "metadata": {},
   "outputs": [],
   "source": [
    "categories_3 = mergeLabel(categories_2, 'Home > Alumni Services', 'Home > Donation')"
   ]
  },
  {
   "cell_type": "code",
   "execution_count": 31,
   "metadata": {},
   "outputs": [],
   "source": [
    "categories_4 = mergeLabel(categories_3, 'Home > Exchange & Attachment', 'Home > Career & Attachment')"
   ]
  },
  {
   "cell_type": "code",
   "execution_count": 32,
   "metadata": {},
   "outputs": [],
   "source": [
    "categories_5 = mergeLabel(categories_4, 'Home > Graduate Admissions & Academic Services', 'Home > Undergraduate Admissions & Financial Assistance')"
   ]
  },
  {
   "cell_type": "code",
   "execution_count": 33,
   "metadata": {},
   "outputs": [],
   "source": [
    "counter = Counter(categories_5)"
   ]
  },
  {
   "cell_type": "code",
   "execution_count": 34,
   "metadata": {},
   "outputs": [
    {
     "data": {
      "text/plain": [
       "Counter({'Home > Alumni Services + Home > Donation': 29,\n",
       "         'Home > Campus Life + Home > Facility Services': 298,\n",
       "         'Home > Exchange & Attachment + Home > Career & Attachment': 248,\n",
       "         'Home > Financial Services': 44,\n",
       "         'Home > Graduate Admissions & Academic Services + Home > Undergraduate Admissions & Financial Assistance': 496,\n",
       "         'Home > IT Services': 357,\n",
       "         'Home > Library Services': 386,\n",
       "         'Home > Specific Programme Questions': 289,\n",
       "         'Home > Teaching & Learning': 19,\n",
       "         'Home > Undergraduate Academic Services': 344})"
      ]
     },
     "execution_count": 34,
     "metadata": {},
     "output_type": "execute_result"
    }
   ],
   "source": [
    "counter"
   ]
  },
  {
   "cell_type": "code",
   "execution_count": 35,
   "metadata": {},
   "outputs": [],
   "source": [
    "categories_6 = mergeLabel(categories_5, 'Home > IT Services', 'Home > Library Services')"
   ]
  },
  {
   "cell_type": "code",
   "execution_count": 36,
   "metadata": {},
   "outputs": [],
   "source": [
    "counter = Counter(categories_6)"
   ]
  },
  {
   "cell_type": "code",
   "execution_count": 37,
   "metadata": {},
   "outputs": [
    {
     "data": {
      "text/plain": [
       "Counter({'Home > Alumni Services + Home > Donation': 29,\n",
       "         'Home > Campus Life + Home > Facility Services': 298,\n",
       "         'Home > Exchange & Attachment + Home > Career & Attachment': 248,\n",
       "         'Home > Financial Services': 44,\n",
       "         'Home > Graduate Admissions & Academic Services + Home > Undergraduate Admissions & Financial Assistance': 496,\n",
       "         'Home > IT Services + Home > Library Services': 743,\n",
       "         'Home > Specific Programme Questions': 289,\n",
       "         'Home > Teaching & Learning': 19,\n",
       "         'Home > Undergraduate Academic Services': 344})"
      ]
     },
     "execution_count": 37,
     "metadata": {},
     "output_type": "execute_result"
    }
   ],
   "source": [
    "counter"
   ]
  },
  {
   "cell_type": "code",
   "execution_count": 38,
   "metadata": {},
   "outputs": [],
   "source": [
    "categories_7 = mergeLabel(categories_6, 'Home > Graduate Admissions & Academic Services + Home > Undergraduate Admissions & Financial Assistance', 'Home > Financial Services')"
   ]
  },
  {
   "cell_type": "code",
   "execution_count": 39,
   "metadata": {},
   "outputs": [],
   "source": [
    "counter = Counter(categories_7)"
   ]
  },
  {
   "cell_type": "code",
   "execution_count": 40,
   "metadata": {},
   "outputs": [
    {
     "data": {
      "text/plain": [
       "Counter({'Home > Alumni Services + Home > Donation': 29,\n",
       "         'Home > Campus Life + Home > Facility Services': 298,\n",
       "         'Home > Exchange & Attachment + Home > Career & Attachment': 248,\n",
       "         'Home > Graduate Admissions & Academic Services + Home > Undergraduate Admissions & Financial Assistance + Home > Financial Services': 540,\n",
       "         'Home > IT Services + Home > Library Services': 743,\n",
       "         'Home > Specific Programme Questions': 289,\n",
       "         'Home > Teaching & Learning': 19,\n",
       "         'Home > Undergraduate Academic Services': 344})"
      ]
     },
     "execution_count": 40,
     "metadata": {},
     "output_type": "execute_result"
    }
   ],
   "source": [
    "counter"
   ]
  },
  {
   "cell_type": "code",
   "execution_count": 41,
   "metadata": {},
   "outputs": [],
   "source": [
    "categories_8 = mergeLabel(categories_7, 'Home > Exchange & Attachment + Home > Career & Attachment', 'Home > Alumni Services + Home > Donation')"
   ]
  },
  {
   "cell_type": "code",
   "execution_count": 42,
   "metadata": {},
   "outputs": [],
   "source": [
    "counter = Counter(categories_8)"
   ]
  },
  {
   "cell_type": "code",
   "execution_count": 43,
   "metadata": {},
   "outputs": [
    {
     "data": {
      "text/plain": [
       "Counter({'Home > Campus Life + Home > Facility Services': 298,\n",
       "         'Home > Exchange & Attachment + Home > Career & Attachment + Home > Alumni Services + Home > Donation': 277,\n",
       "         'Home > Graduate Admissions & Academic Services + Home > Undergraduate Admissions & Financial Assistance + Home > Financial Services': 540,\n",
       "         'Home > IT Services + Home > Library Services': 743,\n",
       "         'Home > Specific Programme Questions': 289,\n",
       "         'Home > Teaching & Learning': 19,\n",
       "         'Home > Undergraduate Academic Services': 344})"
      ]
     },
     "execution_count": 43,
     "metadata": {},
     "output_type": "execute_result"
    }
   ],
   "source": [
    "counter"
   ]
  },
  {
   "cell_type": "code",
   "execution_count": 44,
   "metadata": {},
   "outputs": [],
   "source": [
    "categories_9 = mergeLabel(categories_8, 'Home > Undergraduate Academic Services', 'Home > Teaching & Learning')"
   ]
  },
  {
   "cell_type": "code",
   "execution_count": 45,
   "metadata": {},
   "outputs": [],
   "source": [
    "counter = Counter(categories_9)"
   ]
  },
  {
   "cell_type": "code",
   "execution_count": 46,
   "metadata": {},
   "outputs": [
    {
     "data": {
      "text/plain": [
       "Counter({'Home > Campus Life + Home > Facility Services': 298,\n",
       "         'Home > Exchange & Attachment + Home > Career & Attachment + Home > Alumni Services + Home > Donation': 277,\n",
       "         'Home > Graduate Admissions & Academic Services + Home > Undergraduate Admissions & Financial Assistance + Home > Financial Services': 540,\n",
       "         'Home > IT Services + Home > Library Services': 743,\n",
       "         'Home > Specific Programme Questions': 289,\n",
       "         'Home > Undergraduate Academic Services + Home > Teaching & Learning': 363})"
      ]
     },
     "execution_count": 46,
     "metadata": {},
     "output_type": "execute_result"
    }
   ],
   "source": [
    "counter"
   ]
  },
  {
   "cell_type": "code",
   "execution_count": 47,
   "metadata": {},
   "outputs": [],
   "source": [
    "categories_9 = changeLabel(categories_9, 'Home > Campus Life + Home > Facility Services', 'Campus Life & Accommodation')"
   ]
  },
  {
   "cell_type": "code",
   "execution_count": 48,
   "metadata": {},
   "outputs": [],
   "source": [
    "categories_9 = changeLabel(categories_9, 'Home > Exchange & Attachment + Home > Career & Attachment + Home > Alumni Services + Home > Donation', 'Outreach & Exchange')"
   ]
  },
  {
   "cell_type": "code",
   "execution_count": 49,
   "metadata": {},
   "outputs": [],
   "source": [
    "categories_9 = changeLabel(categories_9, 'Home > Graduate Admissions & Academic Services + Home > Undergraduate Admissions & Financial Assistance + Home > Financial Services', 'Admission & Financial Services')"
   ]
  },
  {
   "cell_type": "code",
   "execution_count": 50,
   "metadata": {},
   "outputs": [],
   "source": [
    "categories_9 = changeLabel(categories_9, 'Home > IT Services + Home > Library Services', 'Other Services')"
   ]
  },
  {
   "cell_type": "code",
   "execution_count": 51,
   "metadata": {},
   "outputs": [],
   "source": [
    "categories_9 = changeLabel(categories_9, 'Home > Undergraduate Academic Services + Home > Teaching & Learning', 'Academics')"
   ]
  },
  {
   "cell_type": "code",
   "execution_count": 52,
   "metadata": {},
   "outputs": [],
   "source": [
    "categories_9 = changeLabel(categories_9, 'Home > Specific Programme Questions', 'Programmes')"
   ]
  },
  {
   "cell_type": "code",
   "execution_count": 53,
   "metadata": {},
   "outputs": [],
   "source": [
    "counter = Counter(categories_9)"
   ]
  },
  {
   "cell_type": "code",
   "execution_count": 54,
   "metadata": {},
   "outputs": [
    {
     "data": {
      "text/plain": [
       "Counter({'Academics': 363,\n",
       "         'Admission & Financial Services': 540,\n",
       "         'Campus Life & Accommodation': 298,\n",
       "         'Other Services': 743,\n",
       "         'Outreach & Exchange': 277,\n",
       "         'Programmes': 289})"
      ]
     },
     "execution_count": 54,
     "metadata": {},
     "output_type": "execute_result"
    }
   ],
   "source": [
    "counter"
   ]
  },
  {
   "cell_type": "code",
   "execution_count": 55,
   "metadata": {},
   "outputs": [],
   "source": [
    "categories_9 = changeLabel(categories_9, 'Programmes', 'Admission & Financial Services')"
   ]
  },
  {
   "cell_type": "code",
   "execution_count": 56,
   "metadata": {},
   "outputs": [],
   "source": [
    "for i in range(len(categories_9)):\n",
    "    tmp = categories_9[i]\n",
    "    tmp = \"-\".join(tmp.split(\" \"))\n",
    "    categories_9[i] = tmp"
   ]
  },
  {
   "cell_type": "code",
   "execution_count": 57,
   "metadata": {},
   "outputs": [],
   "source": [
    "counter = Counter(categories_9)"
   ]
  },
  {
   "cell_type": "code",
   "execution_count": 58,
   "metadata": {},
   "outputs": [
    {
     "data": {
      "text/plain": [
       "Counter({'Academics': 363,\n",
       "         'Admission-&-Financial-Services': 829,\n",
       "         'Campus-Life-&-Accommodation': 298,\n",
       "         'Other-Services': 743,\n",
       "         'Outreach-&-Exchange': 277})"
      ]
     },
     "execution_count": 58,
     "metadata": {},
     "output_type": "execute_result"
    }
   ],
   "source": [
    "counter"
   ]
  },
  {
   "cell_type": "code",
   "execution_count": 59,
   "metadata": {},
   "outputs": [],
   "source": [
    "with open(\"../dataset/faqs/faq_ntu_prototype_v6.txt\", \"w\") as f:\n",
    "    for i in range(len(questions)):\n",
    "        f.writelines(categories_9[i]+\" \"+questions[i]+\"\\n\")"
   ]
  },
  {
   "cell_type": "code",
   "execution_count": null,
   "metadata": {},
   "outputs": [],
   "source": []
  },
  {
   "cell_type": "code",
   "execution_count": null,
   "metadata": {},
   "outputs": [],
   "source": []
  }
 ],
 "metadata": {
  "kernelspec": {
   "display_name": "Python 3",
   "language": "python",
   "name": "python3"
  },
  "language_info": {
   "codemirror_mode": {
    "name": "ipython",
    "version": 3
   },
   "file_extension": ".py",
   "mimetype": "text/x-python",
   "name": "python",
   "nbconvert_exporter": "python",
   "pygments_lexer": "ipython3",
   "version": "3.5.2"
  }
 },
 "nbformat": 4,
 "nbformat_minor": 2
}
